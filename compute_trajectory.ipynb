{
 "cells": [
  {
   "cell_type": "code",
   "execution_count": 11,
   "id": "ultimate-twenty",
   "metadata": {},
   "outputs": [
    {
     "data": {
      "text/plain": [
       "<module 'VCD_trajectory_modules' from '/staff/quentin/Documents/Projects/2024_Venus_Detectability/VCD_trajectory_modules.py'>"
      ]
     },
     "execution_count": 11,
     "metadata": {},
     "output_type": "execute_result"
    }
   ],
   "source": [
    "import VCD_trajectory_modules as VCD\n",
    "from importlib import reload\n",
    "reload(VCD)"
   ]
  },
  {
   "cell_type": "code",
   "execution_count": 17,
   "id": "prepared-underwear",
   "metadata": {},
   "outputs": [
    {
     "name": "stderr",
     "output_type": "stream",
     "text": [
      "/staff/quentin/Documents/Projects/2024_Venus_Detectability/VCD_trajectory_modules.py:19: SettingWithCopyWarning: \n",
      "A value is trying to be set on a copy of a slice from a DataFrame.\n",
      "Try using .loc[row_indexer,col_indexer] = value instead\n",
      "\n",
      "See the caveats in the documentation: https://pandas.pydata.org/pandas-docs/stable/user_guide/indexing.html#returning-a-view-versus-a-copy\n",
      "  winds['gid'] = winds.groupby(['lat', 'lon'])['val'].transform('idxmin')\n",
      "/staff/quentin/Documents/Projects/2024_Venus_Detectability/VCD_trajectory_modules.py:20: SettingWithCopyWarning: \n",
      "A value is trying to be set on a copy of a slice from a DataFrame.\n",
      "Try using .loc[row_indexer,col_indexer] = value instead\n",
      "\n",
      "See the caveats in the documentation: https://pandas.pydata.org/pandas-docs/stable/user_guide/indexing.html#returning-a-view-versus-a-copy\n",
      "  winds['wind_strength'] = winds.groupby(['lat', 'lon'])['val'].transform(lambda x: np.sqrt(sum(x**2)))\n",
      "/staff/quentin/Documents/Projects/2024_Venus_Detectability/VCD_trajectory_modules.py:21: SettingWithCopyWarning: \n",
      "A value is trying to be set on a copy of a slice from a DataFrame.\n",
      "Try using .loc[row_indexer,col_indexer] = value instead\n",
      "\n",
      "See the caveats in the documentation: https://pandas.pydata.org/pandas-docs/stable/user_guide/indexing.html#returning-a-view-versus-a-copy\n",
      "  winds['wind_direction'] = winds.groupby(['lat', 'lon'])['val'].transform(lambda x: np.degrees(np.arctan2(-x.iloc[0], x.iloc[1])))\n",
      "/staff/quentin/Documents/Projects/2024_Venus_Detectability/VCD_trajectory_modules.py:22: SettingWithCopyWarning: \n",
      "A value is trying to be set on a copy of a slice from a DataFrame\n",
      "\n",
      "See the caveats in the documentation: https://pandas.pydata.org/pandas-docs/stable/user_guide/indexing.html#returning-a-view-versus-a-copy\n",
      "  winds.sort_values(by=['lat', 'lon'], inplace=True)\n"
     ]
    }
   ],
   "source": [
    "reload(VCD)\n",
    "\n",
    "file_atmos = './data/VCD_atmos_globe.dat'\n",
    "altitude = 40e3\n",
    "winds = VCD.get_winds(file_atmos, altitude)"
   ]
  },
  {
   "cell_type": "code",
   "execution_count": 22,
   "id": "seventh-carroll",
   "metadata": {},
   "outputs": [],
   "source": [
    "reload(VCD)\n",
    "\n",
    "start_location = [50.,50.]\n",
    "opt_trajectory = dict(\n",
    "    nstep_max=1000, \n",
    "    time_max=3600*24*15,\n",
    "    save_trajectory=False,\n",
    "    folder = './data/',\n",
    ")\n",
    "trajectory = VCD.compute_trajectory(winds, start_location, **opt_trajectory)"
   ]
  },
  {
   "cell_type": "code",
   "execution_count": null,
   "id": "fatty-lithuania",
   "metadata": {},
   "outputs": [],
   "source": []
  }
 ],
 "metadata": {
  "kernelspec": {
   "display_name": "Python 3",
   "language": "python",
   "name": "python3"
  },
  "language_info": {
   "codemirror_mode": {
    "name": "ipython",
    "version": 3
   },
   "file_extension": ".py",
   "mimetype": "text/x-python",
   "name": "python",
   "nbconvert_exporter": "python",
   "pygments_lexer": "ipython3",
   "version": "3.7.9"
  }
 },
 "nbformat": 4,
 "nbformat_minor": 5
}
