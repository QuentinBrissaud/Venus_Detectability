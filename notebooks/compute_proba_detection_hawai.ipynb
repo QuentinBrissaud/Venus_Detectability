{
 "cells": [
  {
   "cell_type": "code",
   "execution_count": 1,
   "id": "close-uncertainty",
   "metadata": {},
   "outputs": [],
   "source": [
    "import proba_modules as pm\n",
    "import numpy as np\n",
    "from pyrocko import moment_tensor as mtm\n",
    "from importlib import reload\n",
    "import matplotlib.pyplot as plt\n",
    "from matplotlib import ticker\n",
    "from mpl_toolkits.axes_grid1.inset_locator import inset_axes\n",
    "import pandas as pd\n",
    "from tqdm import tqdm\n",
    "\n",
    "import VCD_trajectory_modules as VCD\n",
    "import proba_volcanoes_modules as pvm"
   ]
  },
  {
   "cell_type": "markdown",
   "id": "collaborative-norwegian",
   "metadata": {},
   "source": [
    "## Loading TL curves"
   ]
  },
  {
   "cell_type": "code",
   "execution_count": 2,
   "id": "b3f8ba55",
   "metadata": {},
   "outputs": [],
   "source": [
    "from scipy import interpolate\n",
    "file_atmos = './data/profile_VCD_for_scaling_pd.csv'\n",
    "profile = pd.read_csv(file_atmos)\n",
    "f_rho = interpolate.interp1d(profile.altitude/1e3, profile.rho, kind='quadratic')\n",
    "f_t = interpolate.interp1d(profile.altitude/1e3, profile.t, kind='quadratic')\n",
    "f_gamma = interpolate.interp1d(profile.altitude/1e3, profile.gamma, kind='quadratic')\n",
    "f_c = interpolate.interp1d(profile.altitude/1e3, profile.c, kind='quadratic')"
   ]
  },
  {
   "cell_type": "code",
   "execution_count": 3,
   "id": "forward-borough",
   "metadata": {},
   "outputs": [],
   "source": [
    "reload(pm)\n",
    "\n",
    "dir_GF = '/projects/restricted/infrasound/data/infrasound/2023_Venus_inversion/'\n",
    "file_curve = f'{dir_GF}GF_Dirac_1Hz_combined_wHot40.csv'\n",
    "alt_balloon = 50.\n",
    "opt_TL = dict(\n",
    "    rho0=f_rho(0.), \n",
    "    rhob=f_rho(alt_balloon), \n",
    "    cb=f_c(alt_balloon), \n",
    "    unknown='pressure', \n",
    "    model='Cold100'\n",
    ")\n",
    "TL_new, TL_new_qmin, TL_new_qmax = pm.get_TL_curves_precomputed(file_curve, **opt_TL)"
   ]
  },
  {
   "cell_type": "markdown",
   "id": "charming-mississippi",
   "metadata": {},
   "source": [
    "## Loading seismo-volcanic catalog"
   ]
  },
  {
   "cell_type": "code",
   "execution_count": 4,
   "id": "million-breeding",
   "metadata": {},
   "outputs": [],
   "source": [
    "catalog_hawai = pd.read_csv('./data/hawai_catalog_since_1983.csv', header=[0])\n",
    "catalog_hawai.loc[:,'UTC'] = pd.to_datetime(catalog_hawai.UTC)\n",
    "catalog_hawai = catalog_hawai.loc[catalog_hawai.mag>=3.]\n",
    "\n",
    "all_mags = catalog_hawai.mag.values\n",
    "all_times = catalog_hawai['time (years)'].values"
   ]
  },
  {
   "cell_type": "code",
   "execution_count": null,
   "id": "5bf0e46f",
   "metadata": {},
   "outputs": [],
   "source": [
    "reload(pvm)\n",
    "\n",
    "fig = plt.figure(figsize=(10,5))\n",
    "grid = fig.add_gridspec(3, 6)\n",
    "\n",
    "ax_first = fig.add_subplot(grid[:2,:3])\n",
    "ax_zoom = fig.add_subplot(grid[:2,3:], sharey=ax_first)\n",
    "\n",
    "pvm.plot_sequence_events(fig, ax_first, ax_zoom, catalog_hawai, max_val=7., fontsize=12., fontsize_label=20.)"
   ]
  },
  {
   "cell_type": "markdown",
   "id": "deluxe-luxury",
   "metadata": {},
   "source": [
    "## Load atmospheric model"
   ]
  },
  {
   "cell_type": "code",
   "execution_count": 5,
   "id": "silent-flavor",
   "metadata": {},
   "outputs": [
    {
     "name": "stderr",
     "output_type": "stream",
     "text": [
      "/staff/quentin/Documents/Projects/2024_Venus_Detectability/Venus_Detectability/VCD_trajectory_modules.py:18: SettingWithCopyWarning: \n",
      "A value is trying to be set on a copy of a slice from a DataFrame.\n",
      "Try using .loc[row_indexer,col_indexer] = value instead\n",
      "\n",
      "See the caveats in the documentation: https://pandas.pydata.org/pandas-docs/stable/user_guide/indexing.html#returning-a-view-versus-a-copy\n",
      "  winds['gid'] = winds.groupby(['lat', 'lon'])['val'].transform('idxmin')\n",
      "/staff/quentin/Documents/Projects/2024_Venus_Detectability/Venus_Detectability/VCD_trajectory_modules.py:19: SettingWithCopyWarning: \n",
      "A value is trying to be set on a copy of a slice from a DataFrame.\n",
      "Try using .loc[row_indexer,col_indexer] = value instead\n",
      "\n",
      "See the caveats in the documentation: https://pandas.pydata.org/pandas-docs/stable/user_guide/indexing.html#returning-a-view-versus-a-copy\n",
      "  winds['wind_strength'] = winds.groupby(['lat', 'lon'])['val'].transform(lambda x: np.sqrt(sum(x**2)))\n",
      "/staff/quentin/Documents/Projects/2024_Venus_Detectability/Venus_Detectability/VCD_trajectory_modules.py:20: SettingWithCopyWarning: \n",
      "A value is trying to be set on a copy of a slice from a DataFrame.\n",
      "Try using .loc[row_indexer,col_indexer] = value instead\n",
      "\n",
      "See the caveats in the documentation: https://pandas.pydata.org/pandas-docs/stable/user_guide/indexing.html#returning-a-view-versus-a-copy\n",
      "  winds['wind_direction'] = winds.groupby(['lat', 'lon'])['val'].transform(lambda x: np.degrees(np.arctan2(-x.iloc[0], x.iloc[1])))\n",
      "/staff/quentin/Documents/Projects/2024_Venus_Detectability/Venus_Detectability/VCD_trajectory_modules.py:21: SettingWithCopyWarning: \n",
      "A value is trying to be set on a copy of a slice from a DataFrame\n",
      "\n",
      "See the caveats in the documentation: https://pandas.pydata.org/pandas-docs/stable/user_guide/indexing.html#returning-a-view-versus-a-copy\n",
      "  winds.sort_values(by=['lat', 'lon'], inplace=True)\n"
     ]
    }
   ],
   "source": [
    "reload(VCD)\n",
    "\n",
    "file_atmos = './data/VCD_atmos_globe_new.dat'\n",
    "winds = VCD.get_winds(file_atmos, alt_balloon*1e3)"
   ]
  },
  {
   "cell_type": "code",
   "execution_count": 6,
   "id": "shared-contrast",
   "metadata": {},
   "outputs": [],
   "source": [
    "reload(VCD)\n",
    "wind_direction_interpolator, wind_strength_interpolator, _ = VCD.get_winds_interpolator(file_atmos, alt_balloon*1e3, winds=winds)"
   ]
  },
  {
   "cell_type": "markdown",
   "id": "manual-mission",
   "metadata": {},
   "source": [
    "## Parameter space for flights"
   ]
  },
  {
   "cell_type": "markdown",
   "id": "contained-sherman",
   "metadata": {},
   "source": [
    "### High spatial and trajectory time without drop off time"
   ]
  },
  {
   "cell_type": "code",
   "execution_count": 7,
   "id": "facial-sphere",
   "metadata": {},
   "outputs": [],
   "source": [
    "R0 = 6371000  # Earth's radius in meters\n",
    "#lat_vol, lon_vol = -32.5, 132.1\n",
    "lat_vol, lon_vol = 8.687137, -52.476376\n",
    "lat_offset, lon_offset = np.linspace(-50., 50., 80), np.linspace(-50., 50., 40)\n",
    "t0s_offset = np.arange(all_times.min()-2./12, all_times.max()-2./12, 6/12) # in years\n",
    "#vlat = -0.4  # Latitude velocity in meters per second\n",
    "#vlon = -50/110.  # Longitude velocity in meters per second\n",
    "mission_duration = (6./12.)*365*24*3600\n",
    "arrival_time = lambda dist, h_balloon, t0: t0 + (h_balloon/0.35 + dist/3.5)\n",
    "\n",
    "LAT_offset, LON_offset = np.meshgrid(lat_offset, lon_offset)\n",
    "LAT_offset_shape_init = LAT_offset.shape\n",
    "LAT_offset, LON_offset = LAT_offset.ravel(), LON_offset.ravel()\n",
    "lat0 = lat_vol+LAT_offset  # Initial latitude in degrees\n",
    "lon0 = lon_vol+LON_offset  # Initial longitude in degrees\n",
    "\n",
    "dt = 1*3600/6.\n",
    "times = np.arange(0, mission_duration, dt) \n",
    "TIMES, ID_LAT0 = np.meshgrid(times, np.arange(LAT_offset.size))\n",
    "shape_TIMES = TIMES.shape # balloon init loc/t0 x balloon flight time \n",
    "TIMES, ID_LAT0 = TIMES.ravel(), ID_LAT0.ravel() "
   ]
  },
  {
   "cell_type": "code",
   "execution_count": 8,
   "id": "fifth-admission",
   "metadata": {},
   "outputs": [
    {
     "name": "stderr",
     "output_type": "stream",
     "text": [
      "100%|██████████| 26279/26279 [02:25<00:00, 180.80it/s]\n"
     ]
    }
   ],
   "source": [
    "reload(pvm)\n",
    "\n",
    "dt_new = mission_duration/100.\n",
    "idx_dt_step = int(dt_new/dt)\n",
    "times_downsampled = times[::idx_dt_step]\n",
    "latitudes, longitudes = pvm.compute_positions_vectorized_w_interpolator(lat0[ID_LAT0].reshape(shape_TIMES), lon0[ID_LAT0].reshape(shape_TIMES), wind_direction_interpolator, wind_strength_interpolator, TIMES.reshape(shape_TIMES), R0)\n",
    "#latitudes, longitudes = compute_positions_vectorized(lat0[ID_LAT0].reshape(shape_TIMES), lon0[ID_LAT0].reshape(shape_TIMES), vlat_func, vlon, TIMES.reshape(shape_TIMES), R0)\n",
    "#longitudes[longitudes<0] += 360.\n",
    "latitudes, longitudes = latitudes.reshape(shape_TIMES)[:,::idx_dt_step], longitudes.reshape(shape_TIMES)[:,::idx_dt_step]"
   ]
  },
  {
   "cell_type": "code",
   "execution_count": 9,
   "id": "portuguese-light",
   "metadata": {},
   "outputs": [],
   "source": [
    "distances = pvm.haversine_distance(latitudes, longitudes, lat_vol, lon_vol, R0)"
   ]
  },
  {
   "cell_type": "markdown",
   "id": "small-press",
   "metadata": {},
   "source": [
    "### Low resolution trajectory time with drop off time"
   ]
  },
  {
   "cell_type": "code",
   "execution_count": 10,
   "id": "filled-defensive",
   "metadata": {},
   "outputs": [],
   "source": [
    "R0 = 6371000  # Earth's radius in meters\n",
    "#lat_vol, lon_vol = -32.5, 132.1\n",
    "lat_vol, lon_vol = 8.687137, -52.476376\n",
    "lat_offset, lon_offset = np.linspace(-50., 50., 80), np.linspace(-50., 50., 40)\n",
    "t0s_offset = np.arange(all_times.min()-2./12, all_times.max()-2./12, 6/12) # in years\n",
    "#vlat = -0.4  # Latitude velocity in meters per second\n",
    "#vlon = -50/110.  # Longitude velocity in meters per second\n",
    "mission_duration = (6./12.)*365*24*3600\n",
    "arrival_time = lambda dist, h_balloon, t0: t0 + (h_balloon/0.35 + dist/3.5)\n",
    "\n",
    "LAT_offset, LON_offset, T0s_offset = np.meshgrid(lat_offset, lon_offset, t0s_offset)\n",
    "LAT_offset_shape = LAT_offset.shape\n",
    "LAT_offset, LON_offset, T0s_offset = LAT_offset.ravel(), LON_offset.ravel(), T0s_offset.ravel()\n",
    "lat0 = lat_vol+LAT_offset  # Initial latitude in degrees\n",
    "lon0 = lon_vol+LON_offset  # Initial longitude in degrees\n",
    "\n",
    "#dt = 1*3600/6.\n",
    "#times = np.arange(0, mission_duration, dt_new) \n",
    "TIMES, ID_LAT0 = np.meshgrid(times_downsampled, np.arange(LAT_offset.size))\n",
    "shape_TIMES = TIMES.shape # balloon init loc/t0 x balloon flight time \n",
    "TIMES, ID_LAT0 = TIMES.ravel(), ID_LAT0.ravel() "
   ]
  },
  {
   "cell_type": "code",
   "execution_count": 11,
   "id": "cross-magnet",
   "metadata": {},
   "outputs": [],
   "source": [
    "latitudes, longitudes = None, None"
   ]
  },
  {
   "cell_type": "markdown",
   "id": "vocational-median",
   "metadata": {},
   "source": [
    "### Convert back to appropriate dimension that includes drop off time"
   ]
  },
  {
   "cell_type": "code",
   "execution_count": 12,
   "id": "absolute-clearing",
   "metadata": {},
   "outputs": [
    {
     "name": "stderr",
     "output_type": "stream",
     "text": [
      "100%|██████████| 101/101 [00:00<00:00, 207.33it/s]\n"
     ]
    }
   ],
   "source": [
    "distances_repeated = np.zeros(shape_TIMES)\n",
    "for itime in tqdm(range(shape_TIMES[-1])):\n",
    "    distances_repeated[:,itime] = np.repeat(distances[:,0].reshape(LAT_offset_shape_init)[:,:,None], t0s_offset.size, axis=-1).ravel()\n",
    "distances = None"
   ]
  },
  {
   "cell_type": "code",
   "execution_count": 18,
   "id": "close-metadata",
   "metadata": {},
   "outputs": [],
   "source": [
    "distances_repeated = distances_repeated.ravel()"
   ]
  },
  {
   "cell_type": "markdown",
   "id": "planned-injection",
   "metadata": {},
   "source": [
    "## Compute SNR at each balloon location"
   ]
  },
  {
   "cell_type": "code",
   "execution_count": 36,
   "id": "asian-firmware",
   "metadata": {},
   "outputs": [
    {
     "name": "stderr",
     "output_type": "stream",
     "text": [
      "100%|██████████| 2688/2688 [3:27:11<00:00,  4.62s/it]  \n"
     ]
    }
   ],
   "source": [
    "reload(pvm)\n",
    "\n",
    "batch_size = 100\n",
    "freq = 0.1\n",
    "mags_ev, amps_ev, mask = pvm.get_amps_at_baloons(T0s_offset, LAT_offset, ID_LAT0, TIMES, times_downsampled, shape_TIMES, all_times, all_mags, distances_repeated, TL_new[freq], arrival_time, batch_size)"
   ]
  },
  {
   "cell_type": "code",
   "execution_count": 37,
   "id": "5b2f7840",
   "metadata": {},
   "outputs": [],
   "source": [
    "file = f'./data/volcanoes/mags_ev_{1./freq:.0f}s_1983_fixed.npy'\n",
    "with open(file, 'wb') as f:\n",
    "    np.save(f, mags_ev)"
   ]
  },
  {
   "cell_type": "code",
   "execution_count": 38,
   "id": "606cd6f4",
   "metadata": {},
   "outputs": [],
   "source": [
    "file = f'./data/volcanoes/amps_ev_{1./freq:.0f}s_1983_fixed.npy'\n",
    "with open(file, 'wb') as f:\n",
    "    np.save(f, amps_ev)"
   ]
  },
  {
   "cell_type": "code",
   "execution_count": 39,
   "id": "813292aa",
   "metadata": {},
   "outputs": [],
   "source": [
    "file = f'./data/volcanoes/mask_{1./freq:.0f}s_1983_fixed.npy'\n",
    "with open(file, 'wb') as f:\n",
    "    np.save(f, mask)"
   ]
  },
  {
   "cell_type": "markdown",
   "id": "sophisticated-visiting",
   "metadata": {},
   "source": [
    "## Visualization"
   ]
  },
  {
   "cell_type": "markdown",
   "id": "prescription-canvas",
   "metadata": {},
   "source": [
    "### Small"
   ]
  },
  {
   "cell_type": "code",
   "execution_count": 40,
   "id": "numeric-pioneer",
   "metadata": {},
   "outputs": [],
   "source": [
    "#snr_threshold=1\n",
    "#number_over_snr = ((amps_ev*(mask)/noise_level)>snr_threshold).sum(axis=0).reshape(LAT_offset_shape)\n",
    "noise_level=1e-2\n",
    "snr_threshold=1\n",
    "idamp = (amps_ev*(mask)).argmax(axis=0)[None,:]  \n",
    "amps_ev_reshaped = np.take_along_axis(amps_ev*(mask) + 1e-10*(~mask), idamp, axis=0)[0].reshape(LAT_offset_shape) # lon x lat x t0"
   ]
  },
  {
   "cell_type": "code",
   "execution_count": 41,
   "id": "postal-favorite",
   "metadata": {},
   "outputs": [
    {
     "name": "stderr",
     "output_type": "stream",
     "text": [
      "100%|██████████| 50/50 [10:42<00:00, 12.85s/it]\n"
     ]
    }
   ],
   "source": [
    "snrs = np.logspace(np.log10(0.1),np.log10(10.), 50)\n",
    "number_over_snr = np.zeros((snrs.size,) + LAT_offset_shape)\n",
    "for isnr,  snr in tqdm(enumerate(snrs), total=snrs.size):\n",
    "    number_over_snr[isnr,:] = ((amps_ev*(mask)/noise_level)>snr).sum(axis=0).reshape(LAT_offset_shape)"
   ]
  },
  {
   "cell_type": "code",
   "execution_count": 42,
   "id": "understanding-creator",
   "metadata": {},
   "outputs": [
    {
     "data": {
      "image/png": "[encoded data removed]",
      "text/plain": [
       "<Figure size 720x432 with 6 Axes>"
      ]
     },
     "metadata": {
      "needs_background": "light"
     },
     "output_type": "display_data"
    }
   ],
   "source": [
    "reload(pvm)\n",
    "\n",
    "fig = pvm.plot_proba_sequence_small(catalog_hawai, amps_ev, t0s_offset, LAT_offset_shape, mask, snrs, noise_level = 0.01, fontsize=12., number_over_snr=number_over_snr, idamp=idamp, amps_ev_reshaped=amps_ev_reshaped, color_labels='black', fontsize_label=20.)"
   ]
  },
  {
   "cell_type": "code",
   "execution_count": 43,
   "id": "general-puppy",
   "metadata": {},
   "outputs": [],
   "source": [
    "fig.savefig('../figures/Figure_4_volcanoes_small_1983_10s_fixed.pdf')"
   ]
  },
  {
   "cell_type": "markdown",
   "id": "institutional-midwest",
   "metadata": {},
   "source": [
    "### Large"
   ]
  },
  {
   "cell_type": "code",
   "execution_count": null,
   "id": "narrow-alberta",
   "metadata": {},
   "outputs": [],
   "source": [
    "#snr_threshold=1\n",
    "#number_over_snr = ((amps_ev*(mask)/noise_level)>snr_threshold).sum(axis=0).reshape(LAT_offset_shape)\n",
    "noise_level=1e-2\n",
    "snr_threshold=1\n",
    "idamp = (amps_ev*(mask)).argmax(axis=0)[None,:]  \n",
    "amps_ev_reshaped = np.take_along_axis(amps_ev*(mask) + 1e-10*(~mask), idamp, axis=0)[0].reshape(LAT_offset_shape) # lon x lat x t0"
   ]
  },
  {
   "cell_type": "code",
   "execution_count": null,
   "id": "activated-winning",
   "metadata": {},
   "outputs": [],
   "source": [
    "#number_over_snr = ((amps_ev*(mask)/noise_level)>snr_threshold).sum(axis=0).reshape(LAT_offset_shape)\n",
    "snrs = np.logspace(np.log10(0.1),np.log10(10.), 50)\n",
    "number_over_snr = np.zeros((snrs.size,) + LAT_offset_shape)\n",
    "for isnr,  snr in tqdm(enumerate(snrs), total=snrs.size):\n",
    "    number_over_snr[isnr,:] = ((amps_ev*(mask)/noise_level)>snr).sum(axis=0).reshape(LAT_offset_shape)"
   ]
  },
  {
   "cell_type": "code",
   "execution_count": null,
   "id": "abab22f1",
   "metadata": {},
   "outputs": [],
   "source": [
    "import datetime\n",
    "interval = datetime.timedelta(days=30*6)\n",
    "\n",
    "plt.figure()\n",
    "ax = plt.gca()\n",
    "datetimes = [catalog_hawai.UTC.min() + pd.Timedelta(days=year * 365.25) for year in t0s_offset]\n",
    "ax.bar(datetimes, np.mean(number_over_snr, axis=(0,1)), log=True, color='tab:green', width=interval, label='Number of events per flight')\n",
    "ax.axhline(1., linestyle='--', color='black')\n",
    "ax.xaxis_date()\n",
    "ax.set_ylim([1e-2, 6])\n",
    "#ax.set_ylabel('Number of events per flight')\n",
    "ax.legend(frameon=False)\n",
    "\n",
    "bbox_to_anchor=(0., -0.26, 1, 1.)\n",
    "axins = inset_axes(ax, width=\"100%\", height=\"25%\", loc='lower left', bbox_to_anchor=bbox_to_anchor, bbox_transform=ax.transAxes, borderpad=0)"
   ]
  },
  {
   "cell_type": "code",
   "execution_count": null,
   "id": "communist-tuner",
   "metadata": {},
   "outputs": [],
   "source": [
    "reload(pvm)\n",
    "\n",
    "fig = pvm.plot_proba_sequence(catalog_hawai, amps_ev, all_times, all_mags, TL_new, lat_vol, t0s_offset, lat_offset, LAT_offset_shape, mask, noise_level=1e-2, factor = (np.log10(2.)+4.)/4., snr_threshold=1, number_over_snr=number_over_snr, amps_ev_reshaped=amps_ev_reshaped, color_labels='white')"
   ]
  },
  {
   "cell_type": "code",
   "execution_count": null,
   "id": "returning-toilet",
   "metadata": {},
   "outputs": [],
   "source": [
    "fig.tight_layout()\n",
    "fig.savefig('./figures/Figure_4_volcanoes_AGU.png', transparent=True)"
   ]
  },
  {
   "cell_type": "markdown",
   "id": "proof-merit",
   "metadata": {},
   "source": [
    "## Old - Test and random data generation"
   ]
  },
  {
   "cell_type": "code",
   "execution_count": null,
   "id": "going-pricing",
   "metadata": {},
   "outputs": [],
   "source": [
    "import matplotlib.colors as colors\n",
    "#amps_ev_reshaped_over_snr = amps_ev_reshaped/noise_level>=snr_threshold\n",
    "snr_threshold=2\n",
    "noise_level=1e-2\n",
    "number_over_snr = ((amps_ev*(mask)/noise_level)>snr_threshold).sum(axis=0)\n",
    "norm=colors.LogNorm()\n",
    "\n",
    "fig = plt.figure(figsize=(11,5))\n",
    "grid = fig.add_gridspec(1, 2)\n",
    "\n",
    "ax = fig.add_subplot(grid[0,0])\n",
    "#plt.hist2d(T0s_offset, field, bins=100, range=[[0, 12], [0, 10]], norm=norm)\n",
    "field = amps_ev_reshaped.ravel()/noise_level\n",
    "bins = np.logspace(np.log10(0.1),np.log10(10.), 50)\n",
    "#bins = np.linspace(0.1,10., 50)\n",
    "hist = ax.hist(field, bins=bins, log=True, density=True)\n",
    "ax.set_xscale('log')\n",
    "\n",
    "#ax2 = ax.twinx()\n",
    "vals = []\n",
    "for threshold in hist[1][:-1]:\n",
    "    idx = hist[1][:-1] >= threshold\n",
    "    integral = np.trapz(hist[0][idx], x=hist[1][:-1][idx])/np.trapz(hist[0][:], x=hist[1][:-1][:])\n",
    "    vals.append( integral )\n",
    "ax.plot(hist[1][:-1], vals, color='tab:red', label='P(>SNR)')\n",
    "#ax2.set_xscale('log')\n",
    "#ax2.set_yscale('log')\n",
    "#ax2.tick_params(axis='both', colors='tab:red',)\n",
    "#ax2.set_ylim(ax.get_ylim())\n",
    "ax.legend(frameon=False)\n",
    "\n",
    "ax.set_xlabel('SNR')\n",
    "#plt.ylabel('Probability density function')\n",
    "ax.set_ylabel('Probability density function')\n",
    "\n",
    "ax = fig.add_subplot(grid[0,1], sharey=ax)\n",
    "#plt.hist2d(T0s_offset, field, bins=100, range=[[0, 12], [0, 10]], norm=norm)\n",
    "#bins = np.logspace(np.log10(0.1),np.log10(10.), 50)\n",
    "field = number_over_snr\n",
    "hist = plt.hist(field, bins=10, log=True, density=True)\n",
    "\n",
    "vals = []\n",
    "for threshold in hist[1][:-1]:\n",
    "    idx = hist[1][:-1] >= threshold\n",
    "    integral = np.trapz(hist[0][idx], x=hist[1][:-1][idx])/np.trapz(hist[0][:], x=hist[1][:-1][:])\n",
    "    vals.append( integral )\n",
    "ax.plot(hist[1][:-1], vals, color='tab:red', label='P(>number of detections)')\n",
    "ax.legend(frameon=False)\n",
    "\n",
    "#plt.xscale('log')\n",
    "ax.set_xlabel(f'Number of detections per flight with SNR > {snr_threshold}')\n",
    "ax.set_ylim([1e-3, 10])\n",
    "#ax.set_ylabel('Probability density function')"
   ]
  },
  {
   "cell_type": "code",
   "execution_count": null,
   "id": "molecular-enterprise",
   "metadata": {},
   "outputs": [],
   "source": [
    "reload(pm)\n",
    "\n",
    "file_slopes = './data/Venus_data/distribution_venus_per_mw.csv'\n",
    "pd_slopes = pm.get_slopes(file_slopes)"
   ]
  },
  {
   "cell_type": "code",
   "execution_count": null,
   "id": "unavailable-tissue",
   "metadata": {},
   "outputs": [],
   "source": [
    "def return_number_per_cat_and_setting(pd_slopes, cat_quake, setting):\n",
    "    \n",
    "    slope = pd_slopes.loc[(pd_slopes.type_setting==setting)&(pd_slopes.type_unknown=='slope'), cat_quake].iloc[0]\n",
    "    intercept = pd_slopes.loc[(pd_slopes.type_setting==setting)&(pd_slopes.type_unknown=='intercept'), cat_quake].iloc[0]\n",
    "    func = lambda mw: 10**(np.log10(mtm.magnitude_to_moment(mw))*slope+intercept)\n",
    "    return func\n",
    "\n",
    "MwOverM0 = return_number_per_cat_and_setting(pd_slopes, 'coronae', 'active_high_max')\n",
    "MwOverM02 = return_number_per_cat_and_setting(pd_slopes, 'coronae', 'active_low_min')"
   ]
  },
  {
   "cell_type": "code",
   "execution_count": null,
   "id": "naughty-seafood",
   "metadata": {},
   "outputs": [],
   "source": [
    "idx = 40\n",
    "plt.figure()\n",
    "sc = plt.scatter(longitudes.reshape(shape_TIMES)[idx,:], latitudes.reshape(shape_TIMES)[idx,:], c=times)\n",
    "plt.colorbar(sc)\n",
    "plt.scatter(lon_vol, lat_vol, marker='^', s=100, color='tab:red')\n",
    "plt.xlim([-180., 180.])\n",
    "plt.ylim([-90., 90.])"
   ]
  },
  {
   "cell_type": "code",
   "execution_count": null,
   "id": "handmade-timer",
   "metadata": {},
   "outputs": [],
   "source": [
    "def add_cbar(ax, sc, label):\n",
    "\n",
    "    axins = inset_axes(ax, width=\"70%\", height=\"2.5%\", loc='lower left', \n",
    "                    bbox_to_anchor=(0.15, 1.01, 1, 1.), bbox_transform=ax.transAxes, borderpad=0)\n",
    "    axins.tick_params(axis='both', which='both', labelbottom=False, labelleft=False, bottom=False, left=False, labelrotation=90.)\n",
    "    cbar = plt.colorbar(sc, cax=axins, extend='both', orientation=\"horizontal\")  \n",
    "    cbar.ax.xaxis.set_ticks_position('top') \n",
    "    cbar.ax.xaxis.set_label_position(\"top\")\n",
    "    cbar.ax.xaxis.tick_top()\n",
    "    cbar.ax.set_xlabel(label, labelpad=2) \n",
    "\n",
    "mags = np.linspace(2., 6., 200)\n",
    "tmax = 2.\n",
    "tsecondshocks = 1.1\n",
    "times = np.linspace(0., tmax, 150)\n",
    "dists = np.linspace(1., 1000., 100)\n",
    "scaling_min, scaling_max = 5e2, 1e6\n",
    "noise_level = 0.05\n",
    "mission_duration = 1./12.\n",
    "\n",
    "poisson_model = lambda rate, mission_duration : 1.-np.exp(-rate*mission_duration)\n",
    "ID_TIME, DISTS = np.meshgrid(np.arange(times.size), dists)\n",
    "alpha = (1/tmax)*np.log(scaling_max/scaling_min)\n",
    "scalings = lambda times: scaling_min*np.exp(times*alpha)\n",
    "MAGS, TIMES = np.meshgrid(mags, times)\n",
    "shape_init = MAGS.shape\n",
    "NUMBERS = MwOverM0(MAGS)/scalings(TIMES)\n",
    "NUMBERS = NUMBERS.ravel()\n",
    "NUMBERS[NUMBERS<1] = 0\n",
    "\n",
    "NUMBERS2 = np.zeros_like(NUMBERS)\n",
    "inds = TIMES.ravel()>=tsecondshocks\n",
    "NUMBERS2[inds] = (MwOverM02(MAGS.ravel())/scalings(TIMES.ravel()-tsecondshocks))[inds]\n",
    "\n",
    "NUMBERS += NUMBERS2\n",
    "NUMBERS = NUMBERS.astype(int).reshape(shape_init)\n",
    "\n",
    "# Create a mask for non-zero events\n",
    "mask = NUMBERS > 0\n",
    "magnitude_matrix = np.where(mask, MAGS, -np.inf)\n",
    "max_magnitudes = np.max(magnitude_matrix, axis=1)\n",
    "\n",
    "fig = plt.figure(figsize=(15,5))\n",
    "grid = fig.add_gridspec(1, 3)\n",
    "\n",
    "ax = fig.add_subplot(grid[0,0])\n",
    "#sc = ax.contourf(TIMES, MAGS, NUMBERS, cmap='Reds', locator=ticker.LogLocator(), levels=[1, 5, 10, 50, 100, 1000])\n",
    "ax.plot(times, max_magnitudes, color='tab:red',)\n",
    "ax.set_xlabel('Time (years)')\n",
    "ax.set_ylabel('Peak Moment Magnitude ($M_w$)')\n",
    "#add_cbar(ax, sc, f'Number of events')\n",
    "\n",
    "ax = fig.add_subplot(grid[0,1])\n",
    "sc = ax.contourf(times[ID_TIME], DISTS, TL_new(DISTS, max_magnitudes[ID_TIME]), locator=ticker.LogLocator(), cmap='Blues', )\n",
    "ax.set_xlabel('Time (years)')\n",
    "ax.set_ylabel('Distance (km)')\n",
    "add_cbar(ax, sc, f'Peak Amplitude (Pa)')\n",
    "TL_new(DISTS, max_magnitudes[ID_TIME])\n",
    "\n",
    "ax = fig.add_subplot(grid[0,2])\n",
    "sc = ax.contourf(times[ID_TIME], DISTS, TL_new(DISTS, max_magnitudes[ID_TIME])/noise_level, locator=ticker.LogLocator(), cmap='Greens', )\n",
    "ax.set_xlabel('Time (years)')\n",
    "ax.set_ylabel('Distance (km)')\n",
    "add_cbar(ax, sc, f'Peak SNR')"
   ]
  },
  {
   "cell_type": "code",
   "execution_count": null,
   "id": "prescribed-bride",
   "metadata": {},
   "outputs": [],
   "source": [
    "# Parameters for the Gaussian distribution\n",
    "mag_min = 2.0  # mean of the distribution\n",
    "mag_maxs = [6., 4., 5.]\n",
    "t0s = [0., 0.5, 1.4]\n",
    "#mag_maxs = [5.,]\n",
    "#t0s = [0.,]\n",
    "std_dev = 1.5  # standard deviation of the distribution\n",
    "tmax = 2.\n",
    "n = 200  # number of samples\n",
    "\n",
    "# Sampling n elements from the Gaussian distribution\n",
    "np.random.seed(1)\n",
    "all_mags = np.array([])\n",
    "all_times = np.array([])\n",
    "for t0, mag_max in zip(t0s, mag_maxs):\n",
    "    mags = np.random.normal(loc=mag_min, scale=std_dev, size=5*n)\n",
    "    mags = mags[(mags>=mag_min)&(mags<=mag_max)][:n]\n",
    "    all_mags = np.r_[all_mags, np.sort(mags)[::-1]]\n",
    "    times = np.random.normal(loc=t0, scale=tmax/3., size=5*n)\n",
    "    times = times[(times>=t0)&(times<=tmax)][:n]\n",
    "    all_times = np.r_[all_times, np.sort(times)]\n",
    "    \n",
    "plt.figure()\n",
    "_=plt.hist2d(all_times, all_mags, bins=10)\n",
    "#plt.scatter(all_times, all_mags)"
   ]
  },
  {
   "cell_type": "code",
   "execution_count": null,
   "id": "direct-debate",
   "metadata": {},
   "outputs": [],
   "source": [
    "all_times.shape"
   ]
  },
  {
   "cell_type": "code",
   "execution_count": null,
   "id": "hungarian-talent",
   "metadata": {},
   "outputs": [],
   "source": []
  }
 ],
 "metadata": {
  "kernelspec": {
   "display_name": "Python 3",
   "language": "python",
   "name": "python3"
  },
  "language_info": {
   "codemirror_mode": {
    "name": "ipython",
    "version": 3
   },
   "file_extension": ".py",
   "mimetype": "text/x-python",
   "name": "python",
   "nbconvert_exporter": "python",
   "pygments_lexer": "ipython3",
   "version": "3.7.9"
  }
 },
 "nbformat": 4,
 "nbformat_minor": 5
}
