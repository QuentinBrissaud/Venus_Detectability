{
 "cells": [
  {
   "cell_type": "code",
   "execution_count": 11,
   "id": "presidential-teach",
   "metadata": {},
   "outputs": [
    {
     "data": {
      "text/plain": [
       "<module 'VCD_trajectory_modules' from '/staff/quentin/Documents/Projects/2024_Venus_Detectability/VCD_trajectory_modules.py'>"
      ]
     },
     "execution_count": 11,
     "metadata": {},
     "output_type": "execute_result"
    }
   ],
   "source": [
    "import VCD_trajectory_modules as VCD\n",
    "from importlib import reload\n",
    "import numpy as np\n",
    "reload(VCD)"
   ]
  },
  {
   "cell_type": "code",
   "execution_count": 17,
   "id": "synthetic-module",
   "metadata": {},
   "outputs": [
    {
     "name": "stderr",
     "output_type": "stream",
     "text": [
      "/staff/quentin/Documents/Projects/2024_Venus_Detectability/VCD_trajectory_modules.py:19: SettingWithCopyWarning: \n",
      "A value is trying to be set on a copy of a slice from a DataFrame.\n",
      "Try using .loc[row_indexer,col_indexer] = value instead\n",
      "\n",
      "See the caveats in the documentation: https://pandas.pydata.org/pandas-docs/stable/user_guide/indexing.html#returning-a-view-versus-a-copy\n",
      "  winds['gid'] = winds.groupby(['lat', 'lon'])['val'].transform('idxmin')\n",
      "/staff/quentin/Documents/Projects/2024_Venus_Detectability/VCD_trajectory_modules.py:20: SettingWithCopyWarning: \n",
      "A value is trying to be set on a copy of a slice from a DataFrame.\n",
      "Try using .loc[row_indexer,col_indexer] = value instead\n",
      "\n",
      "See the caveats in the documentation: https://pandas.pydata.org/pandas-docs/stable/user_guide/indexing.html#returning-a-view-versus-a-copy\n",
      "  winds['wind_strength'] = winds.groupby(['lat', 'lon'])['val'].transform(lambda x: np.sqrt(sum(x**2)))\n",
      "/staff/quentin/Documents/Projects/2024_Venus_Detectability/VCD_trajectory_modules.py:21: SettingWithCopyWarning: \n",
      "A value is trying to be set on a copy of a slice from a DataFrame.\n",
      "Try using .loc[row_indexer,col_indexer] = value instead\n",
      "\n",
      "See the caveats in the documentation: https://pandas.pydata.org/pandas-docs/stable/user_guide/indexing.html#returning-a-view-versus-a-copy\n",
      "  winds['wind_direction'] = winds.groupby(['lat', 'lon'])['val'].transform(lambda x: np.degrees(np.arctan2(-x.iloc[0], x.iloc[1])))\n",
      "/staff/quentin/Documents/Projects/2024_Venus_Detectability/VCD_trajectory_modules.py:22: SettingWithCopyWarning: \n",
      "A value is trying to be set on a copy of a slice from a DataFrame\n",
      "\n",
      "See the caveats in the documentation: https://pandas.pydata.org/pandas-docs/stable/user_guide/indexing.html#returning-a-view-versus-a-copy\n",
      "  winds.sort_values(by=['lat', 'lon'], inplace=True)\n"
     ]
    }
   ],
   "source": [
    "reload(VCD)\n",
    "\n",
    "file_atmos = './data/VCD_atmos_globe.dat'\n",
    "altitude = 40e3\n",
    "winds = VCD.get_winds(file_atmos, altitude)"
   ]
  },
  {
   "cell_type": "code",
   "execution_count": 19,
   "id": "serial-macro",
   "metadata": {},
   "outputs": [],
   "source": [
    "reload(VCD)\n",
    "\n",
    "start_location = [50.,50.]\n",
    "opt_trajectory = dict(\n",
    "    nstep_max=1000, \n",
    "    time_max=3600*24*15,\n",
    "    save_trajectory=False,\n",
    "    folder = './data/',\n",
    ")\n",
    "trajectory = VCD.compute_trajectory(winds, start_location, folder, **opt_trajectory)\n"
   ]
  },
  {
   "cell_type": "code",
   "execution_count": 20,
   "id": "rapid-payday",
   "metadata": {},
   "outputs": [
    {
     "data": {
      "text/html": [
       "<div>\n",
       "<style scoped>\n",
       "    .dataframe tbody tr th:only-of-type {\n",
       "        vertical-align: middle;\n",
       "    }\n",
       "\n",
       "    .dataframe tbody tr th {\n",
       "        vertical-align: top;\n",
       "    }\n",
       "\n",
       "    .dataframe thead th {\n",
       "        text-align: right;\n",
       "    }\n",
       "</style>\n",
       "<table border=\"1\" class=\"dataframe\">\n",
       "  <thead>\n",
       "    <tr style=\"text-align: right;\">\n",
       "      <th></th>\n",
       "      <th>time</th>\n",
       "      <th>lat</th>\n",
       "      <th>lon</th>\n",
       "      <th>wind_dir</th>\n",
       "      <th>wind_strength</th>\n",
       "    </tr>\n",
       "  </thead>\n",
       "  <tbody>\n",
       "    <tr>\n",
       "      <th>0</th>\n",
       "      <td>2.768380e+03</td>\n",
       "      <td>50.028946</td>\n",
       "      <td>48.950748</td>\n",
       "      <td>-87.146602</td>\n",
       "      <td>27.190111</td>\n",
       "    </tr>\n",
       "    <tr>\n",
       "      <th>1</th>\n",
       "      <td>1.288682e+04</td>\n",
       "      <td>50.083426</td>\n",
       "      <td>44.982425</td>\n",
       "      <td>-87.257459</td>\n",
       "      <td>28.088472</td>\n",
       "    </tr>\n",
       "    <tr>\n",
       "      <th>2</th>\n",
       "      <td>2.309857e+04</td>\n",
       "      <td>50.134191</td>\n",
       "      <td>41.012859</td>\n",
       "      <td>-87.338143</td>\n",
       "      <td>27.809206</td>\n",
       "    </tr>\n",
       "    <tr>\n",
       "      <th>3</th>\n",
       "      <td>2.340558e+04</td>\n",
       "      <td>50.137695</td>\n",
       "      <td>40.893566</td>\n",
       "      <td>-87.338143</td>\n",
       "      <td>27.809206</td>\n",
       "    </tr>\n",
       "    <tr>\n",
       "      <th>4</th>\n",
       "      <td>3.302785e+04</td>\n",
       "      <td>50.180490</td>\n",
       "      <td>37.025410</td>\n",
       "      <td>-87.528502</td>\n",
       "      <td>28.727522</td>\n",
       "    </tr>\n",
       "    <tr>\n",
       "      <th>...</th>\n",
       "      <td>...</td>\n",
       "      <td>...</td>\n",
       "      <td>...</td>\n",
       "      <td>...</td>\n",
       "      <td>...</td>\n",
       "    </tr>\n",
       "    <tr>\n",
       "      <th>160</th>\n",
       "      <td>1.273532e+06</td>\n",
       "      <td>43.592228</td>\n",
       "      <td>-18.998961</td>\n",
       "      <td>-90.555641</td>\n",
       "      <td>25.314290</td>\n",
       "    </tr>\n",
       "    <tr>\n",
       "      <th>161</th>\n",
       "      <td>1.282932e+06</td>\n",
       "      <td>43.530504</td>\n",
       "      <td>-21.973095</td>\n",
       "      <td>-90.609457</td>\n",
       "      <td>25.572447</td>\n",
       "    </tr>\n",
       "    <tr>\n",
       "      <th>162</th>\n",
       "      <td>1.286800e+06</td>\n",
       "      <td>43.519635</td>\n",
       "      <td>-23.208582</td>\n",
       "      <td>-90.267236</td>\n",
       "      <td>25.821081</td>\n",
       "    </tr>\n",
       "    <tr>\n",
       "      <th>163</th>\n",
       "      <td>1.295535e+06</td>\n",
       "      <td>43.472527</td>\n",
       "      <td>-26.024535</td>\n",
       "      <td>-90.346908</td>\n",
       "      <td>26.081078</td>\n",
       "    </tr>\n",
       "    <tr>\n",
       "      <th>164</th>\n",
       "      <td>1.307998e+06</td>\n",
       "      <td>43.378882</td>\n",
       "      <td>-30.074353</td>\n",
       "      <td>-90.424117</td>\n",
       "      <td>26.322121</td>\n",
       "    </tr>\n",
       "  </tbody>\n",
       "</table>\n",
       "<p>165 rows × 5 columns</p>\n",
       "</div>"
      ],
      "text/plain": [
       "             time        lat        lon   wind_dir  wind_strength\n",
       "0    2.768380e+03  50.028946  48.950748 -87.146602      27.190111\n",
       "1    1.288682e+04  50.083426  44.982425 -87.257459      28.088472\n",
       "2    2.309857e+04  50.134191  41.012859 -87.338143      27.809206\n",
       "3    2.340558e+04  50.137695  40.893566 -87.338143      27.809206\n",
       "4    3.302785e+04  50.180490  37.025410 -87.528502      28.727522\n",
       "..            ...        ...        ...        ...            ...\n",
       "160  1.273532e+06  43.592228 -18.998961 -90.555641      25.314290\n",
       "161  1.282932e+06  43.530504 -21.973095 -90.609457      25.572447\n",
       "162  1.286800e+06  43.519635 -23.208582 -90.267236      25.821081\n",
       "163  1.295535e+06  43.472527 -26.024535 -90.346908      26.081078\n",
       "164  1.307998e+06  43.378882 -30.074353 -90.424117      26.322121\n",
       "\n",
       "[165 rows x 5 columns]"
      ]
     },
     "execution_count": 20,
     "metadata": {},
     "output_type": "execute_result"
    }
   ],
   "source": [
    "trajectory"
   ]
  },
  {
   "cell_type": "code",
   "execution_count": null,
   "id": "obvious-gender",
   "metadata": {},
   "outputs": [],
   "source": []
  }
 ],
 "metadata": {
  "kernelspec": {
   "display_name": "Python 3",
   "language": "python",
   "name": "python3"
  },
  "language_info": {
   "codemirror_mode": {
    "name": "ipython",
    "version": 3
   },
   "file_extension": ".py",
   "mimetype": "text/x-python",
   "name": "python",
   "nbconvert_exporter": "python",
   "pygments_lexer": "ipython3",
   "version": "3.7.9"
  }
 },
 "nbformat": 4,
 "nbformat_minor": 5
}
