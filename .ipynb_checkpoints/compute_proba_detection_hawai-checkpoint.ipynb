{
 "cells": [
  {
   "cell_type": "code",
   "execution_count": 8,
   "id": "close-uncertainty",
   "metadata": {},
   "outputs": [],
   "source": [
    "import proba_modules as pm\n",
    "import numpy as np\n",
    "from pyrocko import moment_tensor as mtm\n",
    "from importlib import reload\n",
    "import matplotlib.pyplot as plt\n",
    "from matplotlib import ticker\n",
    "from mpl_toolkits.axes_grid1.inset_locator import inset_axes\n",
    "import pandas as pd\n",
    "from tqdm import tqdm\n",
    "\n",
    "import VCD_trajectory_modules as VCD"
   ]
  },
  {
   "cell_type": "markdown",
   "id": "natural-sending",
   "metadata": {},
   "source": [
    "## Loading TL curves"
   ]
  },
  {
   "cell_type": "code",
   "execution_count": 2,
   "id": "criminal-identity",
   "metadata": {},
   "outputs": [
    {
     "data": {
      "image/png": "[encoded data removed]",
      "text/plain": [
       "<Figure size 432x288 with 1 Axes>"
      ]
     },
     "metadata": {
      "needs_background": "light"
     },
     "output_type": "display_data"
    }
   ],
   "source": [
    "reload(pm)\n",
    "file_curve = './data/GF_Dirac_1Hz_all.csv'\n",
    "TL_new, TL_new_qmin, TL_new_qmax = pm.get_TL_curves(file_curve, dist_min=100., rho0=67., rhob=2.792, cb=304., use_savgol_filter=True, plot=True, scalar_moment=10e6)"
   ]
  },
  {
   "cell_type": "markdown",
   "id": "southeast-obligation",
   "metadata": {},
   "source": [
    "## Loading seismo-volcanic catalog"
   ]
  },
  {
   "cell_type": "code",
   "execution_count": 3,
   "id": "million-breeding",
   "metadata": {},
   "outputs": [],
   "source": [
    "catalog_hawai = pd.read_csv('./data/hawai_catalog.csv', header=[0])\n",
    "catalog_hawai = catalog_hawai.loc[catalog_hawai.mag>=3.5]\n",
    "all_mags = catalog_hawai.mag.values\n",
    "all_times = catalog_hawai['time (years)'].values\n",
    "#plt.figure()\n",
    "#_=plt.hist2d(all_times, all_mags, bins=10)"
   ]
  },
  {
   "cell_type": "markdown",
   "id": "constitutional-preview",
   "metadata": {},
   "source": [
    "## Load atmospheric model"
   ]
  },
  {
   "cell_type": "code",
   "execution_count": 9,
   "id": "medical-idaho",
   "metadata": {},
   "outputs": [
    {
     "name": "stderr",
     "output_type": "stream",
     "text": [
      "/staff/quentin/Documents/Projects/2024_Venus_Detectability/VCD_trajectory_modules.py:19: SettingWithCopyWarning: \n",
      "A value is trying to be set on a copy of a slice from a DataFrame.\n",
      "Try using .loc[row_indexer,col_indexer] = value instead\n",
      "\n",
      "See the caveats in the documentation: https://pandas.pydata.org/pandas-docs/stable/user_guide/indexing.html#returning-a-view-versus-a-copy\n",
      "  winds['gid'] = winds.groupby(['lat', 'lon'])['val'].transform('idxmin')\n",
      "/staff/quentin/Documents/Projects/2024_Venus_Detectability/VCD_trajectory_modules.py:20: SettingWithCopyWarning: \n",
      "A value is trying to be set on a copy of a slice from a DataFrame.\n",
      "Try using .loc[row_indexer,col_indexer] = value instead\n",
      "\n",
      "See the caveats in the documentation: https://pandas.pydata.org/pandas-docs/stable/user_guide/indexing.html#returning-a-view-versus-a-copy\n",
      "  winds['wind_strength'] = winds.groupby(['lat', 'lon'])['val'].transform(lambda x: np.sqrt(sum(x**2)))\n",
      "/staff/quentin/Documents/Projects/2024_Venus_Detectability/VCD_trajectory_modules.py:21: SettingWithCopyWarning: \n",
      "A value is trying to be set on a copy of a slice from a DataFrame.\n",
      "Try using .loc[row_indexer,col_indexer] = value instead\n",
      "\n",
      "See the caveats in the documentation: https://pandas.pydata.org/pandas-docs/stable/user_guide/indexing.html#returning-a-view-versus-a-copy\n",
      "  winds['wind_direction'] = winds.groupby(['lat', 'lon'])['val'].transform(lambda x: np.degrees(np.arctan2(-x.iloc[0], x.iloc[1])))\n",
      "/staff/quentin/Documents/Projects/2024_Venus_Detectability/VCD_trajectory_modules.py:22: SettingWithCopyWarning: \n",
      "A value is trying to be set on a copy of a slice from a DataFrame\n",
      "\n",
      "See the caveats in the documentation: https://pandas.pydata.org/pandas-docs/stable/user_guide/indexing.html#returning-a-view-versus-a-copy\n",
      "  winds.sort_values(by=['lat', 'lon'], inplace=True)\n"
     ]
    }
   ],
   "source": [
    "reload(VCD)\n",
    "\n",
    "file_atmos = './data/VCD_atmos_globe.dat'\n",
    "altitude = 40e3\n",
    "winds = VCD.get_winds(file_atmos, altitude)"
   ]
  },
  {
   "cell_type": "code",
   "execution_count": 18,
   "id": "nonprofit-picking",
   "metadata": {},
   "outputs": [],
   "source": [
    "reload(VCD)\n",
    "wind_direction_interpolator, wind_strength_interpolator, _ = VCD.get_winds_interpolator(file_atmos, altitude, winds=winds)"
   ]
  },
  {
   "cell_type": "markdown",
   "id": "periodic-hospital",
   "metadata": {},
   "source": [
    "## Parameter space for flights"
   ]
  },
  {
   "cell_type": "code",
   "execution_count": null,
   "id": "concrete-yacht",
   "metadata": {},
   "outputs": [],
   "source": [
    "R0 = 6371000  # Earth's radius in meters\n",
    "lat_vol, lon_vol = -32.5, 132.1\n",
    "lat_offset, lon_offset = np.linspace(-30., 30., 50), np.linspace(-20., 20., 40)\n",
    "t0s_offset = np.arange(all_times.min()-2./12, all_times.max()-2./12, 1/12) # in years\n",
    "#vlat = -0.4  # Latitude velocity in meters per second\n",
    "vlon = -50/110.  # Longitude velocity in meters per second\n",
    "mission_duration = (2./12.)*365*24*3600\n",
    "\n",
    "LAT_offset, LON_offset, T0s_offset = np.meshgrid(lat_offset, lon_offset, t0s_offset)\n",
    "LAT_offset_shape = LAT_offset.shape\n",
    "LAT_offset, LON_offset, T0s_offset = LAT_offset.ravel(), LON_offset.ravel(), T0s_offset.ravel()\n",
    "lat0 = lat_vol+LAT_offset  # Initial latitude in degrees\n",
    "lon0 = lon_vol+LON_offset  # Initial longitude in degrees\n",
    "\n",
    "times = np.linspace(0, mission_duration, 100)  # Time vector from 0 to 3600 seconds in steps of 600 seconds\n",
    "TIMES, ID_LAT0 = np.meshgrid(times, np.arange(LAT_offset.size))\n",
    "shape_TIMES = TIMES.shape # balloon init loc/t0 x balloon flight time \n",
    "TIMES, ID_LAT0 = TIMES.ravel(), ID_LAT0.ravel() "
   ]
  },
  {
   "cell_type": "code",
   "execution_count": 21,
   "id": "respective-division",
   "metadata": {},
   "outputs": [
    {
     "name": "stderr",
     "output_type": "stream",
     "text": [
      " 81%|████████  | 81/100 [00:03<00:00, 23.04it/s]\n"
     ]
    },
    {
     "ename": "KeyboardInterrupt",
     "evalue": "",
     "output_type": "error",
     "traceback": [
      "\u001b[0;31m---------------------------------------------------------------------------\u001b[0m",
      "\u001b[0;31mKeyboardInterrupt\u001b[0m                         Traceback (most recent call last)",
      "\u001b[0;32m<ipython-input-21-40bd29f819cb>\u001b[0m in \u001b[0;36m<module>\u001b[0;34m\u001b[0m\n\u001b[1;32m     75\u001b[0m \u001b[0;34m\u001b[0m\u001b[0m\n\u001b[1;32m     76\u001b[0m \u001b[0marrival_time\u001b[0m \u001b[0;34m=\u001b[0m \u001b[0;32mlambda\u001b[0m \u001b[0mdist\u001b[0m\u001b[0;34m,\u001b[0m \u001b[0mh_balloon\u001b[0m\u001b[0;34m,\u001b[0m \u001b[0mt0\u001b[0m\u001b[0;34m:\u001b[0m \u001b[0mt0\u001b[0m \u001b[0;34m+\u001b[0m \u001b[0;34m(\u001b[0m\u001b[0mh_balloon\u001b[0m\u001b[0;34m/\u001b[0m\u001b[0;36m0.35\u001b[0m \u001b[0;34m+\u001b[0m \u001b[0mdist\u001b[0m\u001b[0;34m/\u001b[0m\u001b[0;36m3.5\u001b[0m\u001b[0;34m)\u001b[0m\u001b[0;34m\u001b[0m\u001b[0;34m\u001b[0m\u001b[0m\n\u001b[0;32m---> 77\u001b[0;31m \u001b[0mlatitudes\u001b[0m\u001b[0;34m,\u001b[0m \u001b[0mlongitudes\u001b[0m \u001b[0;34m=\u001b[0m \u001b[0mcompute_positions_vectorized\u001b[0m\u001b[0;34m(\u001b[0m\u001b[0mlat0\u001b[0m\u001b[0;34m[\u001b[0m\u001b[0mID_LAT0\u001b[0m\u001b[0;34m]\u001b[0m\u001b[0;34m.\u001b[0m\u001b[0mreshape\u001b[0m\u001b[0;34m(\u001b[0m\u001b[0mshape_TIMES\u001b[0m\u001b[0;34m)\u001b[0m\u001b[0;34m,\u001b[0m \u001b[0mlon0\u001b[0m\u001b[0;34m[\u001b[0m\u001b[0mID_LAT0\u001b[0m\u001b[0;34m]\u001b[0m\u001b[0;34m.\u001b[0m\u001b[0mreshape\u001b[0m\u001b[0;34m(\u001b[0m\u001b[0mshape_TIMES\u001b[0m\u001b[0;34m)\u001b[0m\u001b[0;34m,\u001b[0m \u001b[0mvlat_func\u001b[0m\u001b[0;34m,\u001b[0m \u001b[0mvlon\u001b[0m\u001b[0;34m,\u001b[0m \u001b[0mTIMES\u001b[0m\u001b[0;34m.\u001b[0m\u001b[0mreshape\u001b[0m\u001b[0;34m(\u001b[0m\u001b[0mshape_TIMES\u001b[0m\u001b[0;34m)\u001b[0m\u001b[0;34m,\u001b[0m \u001b[0mR0\u001b[0m\u001b[0;34m)\u001b[0m\u001b[0;34m\u001b[0m\u001b[0;34m\u001b[0m\u001b[0m\n\u001b[0m\u001b[1;32m     78\u001b[0m \u001b[0mdistances\u001b[0m \u001b[0;34m=\u001b[0m \u001b[0mhaversine_distance\u001b[0m\u001b[0;34m(\u001b[0m\u001b[0mlatitudes\u001b[0m\u001b[0;34m,\u001b[0m \u001b[0mlongitudes\u001b[0m\u001b[0;34m,\u001b[0m \u001b[0mlat_vol\u001b[0m\u001b[0;34m,\u001b[0m \u001b[0mlon_vol\u001b[0m\u001b[0;34m,\u001b[0m \u001b[0mR0\u001b[0m\u001b[0;34m)\u001b[0m\u001b[0;34m\u001b[0m\u001b[0;34m\u001b[0m\u001b[0m\n",
      "\u001b[0;32m<ipython-input-21-40bd29f819cb>\u001b[0m in \u001b[0;36mcompute_positions_vectorized\u001b[0;34m(lat0, lon0, vlat_func, vlon, times, R0)\u001b[0m\n\u001b[1;32m     49\u001b[0m \u001b[0;34m\u001b[0m\u001b[0m\n\u001b[1;32m     50\u001b[0m         \u001b[0;31m# Store the results\u001b[0m\u001b[0;34m\u001b[0m\u001b[0;34m\u001b[0m\u001b[0;34m\u001b[0m\u001b[0m\n\u001b[0;32m---> 51\u001b[0;31m         \u001b[0mnew_lat_rad\u001b[0m\u001b[0;34m[\u001b[0m\u001b[0;34m:\u001b[0m\u001b[0;34m,\u001b[0m\u001b[0mi\u001b[0m\u001b[0;34m]\u001b[0m \u001b[0;34m=\u001b[0m \u001b[0mlat_rad\u001b[0m\u001b[0;34m\u001b[0m\u001b[0;34m\u001b[0m\u001b[0m\n\u001b[0m\u001b[1;32m     52\u001b[0m         \u001b[0mnew_lon_rad\u001b[0m\u001b[0;34m[\u001b[0m\u001b[0;34m:\u001b[0m\u001b[0;34m,\u001b[0m\u001b[0mi\u001b[0m\u001b[0;34m]\u001b[0m \u001b[0;34m=\u001b[0m \u001b[0mlon_rad\u001b[0m\u001b[0;34m\u001b[0m\u001b[0;34m\u001b[0m\u001b[0m\n\u001b[1;32m     53\u001b[0m \u001b[0;34m\u001b[0m\u001b[0m\n",
      "\u001b[0;31mKeyboardInterrupt\u001b[0m: "
     ]
    }
   ],
   "source": [
    "# Example latitude-dependent velocity function\n",
    "def vlat_func(latitude):\n",
    "    # Example: vlat decreases as latitude increases\n",
    "    return -4*np.sign(latitude) *np.exp(-(latitude/35)**2)/110.\n",
    "    #return -0.4*np.exp(-(latitude/35)**2)\n",
    "\n",
    "def wrap_latitude(lat_rad):\n",
    "    # Wrap latitude values correctly after crossing the poles\n",
    "    lat_wrapped = np.arcsin(np.sin(lat_rad))\n",
    "    return lat_wrapped\n",
    "\n",
    "def wrap_longitude(lon_rad):\n",
    "    # Wrap longitude values within the range [-pi, pi]\n",
    "    lon_wrapped = (lon_rad + np.pi) % (2 * np.pi) - np.pi\n",
    "    return lon_wrapped\n",
    "\n",
    "def compute_positions_vectorized_w_interpolator(lat0, lon0, wind_direction_interpolator, wind_strength_interpolator, times, R0):\n",
    "    # Convert initial latitude and longitude from degrees to radians\n",
    "    lat0_rad = np.radians(lat0)\n",
    "    lon0_rad = np.radians(lon0)\n",
    "    \n",
    "    # Initialize arrays to store results\n",
    "    lat_rad = lat0_rad[:,0]\n",
    "    lon_rad = lon0_rad[:,0]\n",
    "    new_lat_rad = np.zeros_like(times, dtype=float)\n",
    "    new_lon_rad = np.zeros_like(times, dtype=float)\n",
    "    \n",
    "    # \n",
    "    # Compute positions for each time step\n",
    "    for i, time in tqdm(enumerate(times[0,:]), total=times.shape[1]):\n",
    "        \n",
    "        # Calculate the latitude-dependent latitude velocity\n",
    "        #vlat = vlat_func(np.degrees(lat_rad))\n",
    "        az = wind_direction_interpolator(np.degrees(lat_rad), np.degrees(lon_rad))\n",
    "        w_strength = wind_direction_interpolator(np.degrees(lat_rad), np.degrees(lon_rad))\n",
    "        vlon = np.cos(lon_rad)*w_strength\n",
    "        vlat = np.sin(lon_rad)*w_strength\n",
    "        \n",
    "        # Calculate the distance traveled in latitude and longitude\n",
    "        dlat = vlat * time\n",
    "        dlon = vlon * time\n",
    "        \n",
    "        # Convert distances into angular displacements (in radians)\n",
    "        delta_lat_rad = dlat / R0\n",
    "        delta_lon_rad = dlon / (R0 * np.cos(lat_rad))\n",
    "        \n",
    "        # Calculate the new latitude and longitude in radians\n",
    "        lat_rad += delta_lat_rad\n",
    "        lon_rad += delta_lon_rad\n",
    "        \n",
    "        # Wrap the latitude and longitude values\n",
    "        lat_rad = wrap_latitude(lat_rad)\n",
    "        lon_rad = wrap_longitude(lon_rad)\n",
    "        \n",
    "        # Store the results\n",
    "        new_lat_rad[:,i] = lat_rad\n",
    "        new_lon_rad[:,i] = lon_rad\n",
    "    \n",
    "    # Convert the final latitude and longitude back to degrees\n",
    "    new_lat = np.degrees(new_lat_rad)\n",
    "    new_lon = np.degrees(new_lon_rad)\n",
    "    \n",
    "    return new_lat.ravel(), new_lon.ravel()\n",
    "\n",
    "def compute_positions_vectorized(lat0, lon0, vlat_func, vlon, times, R0):\n",
    "    # Convert initial latitude and longitude from degrees to radians\n",
    "    lat0_rad = np.radians(lat0)\n",
    "    lon0_rad = np.radians(lon0)\n",
    "    \n",
    "    # Initialize arrays to store results\n",
    "    lat_rad = lat0_rad[:,0]\n",
    "    lon_rad = lon0_rad[:,0]\n",
    "    new_lat_rad = np.zeros_like(times, dtype=float)\n",
    "    new_lon_rad = np.zeros_like(times, dtype=float)\n",
    "    \n",
    "    # wind_direction_interpolator, wind_strength_interpolator\n",
    "    # Compute positions for each time step\n",
    "    for i, time in tqdm(enumerate(times[0,:]), total=times.shape[1]):\n",
    "        \n",
    "        # Calculate the latitude-dependent latitude velocity\n",
    "        #vlat = vlat_func(np.degrees(lat_rad))\n",
    "        az = wind_direction_interpolator(np.degrees(lat_rad), np.degrees(lon_rad))\n",
    "        w_strength = wind_direction_interpolator(np.degrees(lat_rad), np.degrees(lon_rad))\n",
    "        vlon = np.cos(lon_rad)*w_strength\n",
    "        vlat = np.sin(lon_rad)*w_strength\n",
    "        \n",
    "        # Calculate the distance traveled in latitude and longitude\n",
    "        dlat = vlat * time\n",
    "        dlon = vlon * time\n",
    "        \n",
    "        # Convert distances into angular displacements (in radians)\n",
    "        delta_lat_rad = dlat / R0\n",
    "        delta_lon_rad = dlon / (R0 * np.cos(lat_rad))\n",
    "        \n",
    "        # Calculate the new latitude and longitude in radians\n",
    "        lat_rad += delta_lat_rad\n",
    "        lon_rad += delta_lon_rad\n",
    "        \n",
    "        # Wrap the latitude and longitude values\n",
    "        lat_rad = wrap_latitude(lat_rad)\n",
    "        lon_rad = wrap_longitude(lon_rad)\n",
    "        \n",
    "        # Store the results\n",
    "        new_lat_rad[:,i] = lat_rad\n",
    "        new_lon_rad[:,i] = lon_rad\n",
    "    \n",
    "    # Convert the final latitude and longitude back to degrees\n",
    "    new_lat = np.degrees(new_lat_rad)\n",
    "    new_lon = np.degrees(new_lon_rad)\n",
    "    \n",
    "    return new_lat.ravel(), new_lon.ravel()\n",
    "\n",
    "def haversine_distance(lat1, lon1, lat2, lon2, R):\n",
    "    # Convert latitudes and longitudes from degrees to radians\n",
    "    lat1_rad = np.radians(lat1)\n",
    "    lon1_rad = np.radians(lon1)\n",
    "    lat2_rad = np.radians(lat2)\n",
    "    lon2_rad = np.radians(lon2)\n",
    "    \n",
    "    # Haversine formula\n",
    "    dlat = lat2_rad - lat1_rad\n",
    "    dlon = lon2_rad - lon1_rad\n",
    "    a = np.sin(dlat / 2)**2 + np.cos(lat1_rad) * np.cos(lat2_rad) * np.sin(dlon / 2)**2\n",
    "    c = 2 * np.arctan2(np.sqrt(a), np.sqrt(1 - a))\n",
    "    distance = R * c\n",
    "    \n",
    "    return distance/1e3\n",
    "\n",
    "arrival_time = lambda dist, h_balloon, t0: t0 + (h_balloon/0.35 + dist/3.5)\n",
    "latitudes, longitudes = compute_positions_vectorized(lat0[ID_LAT0].reshape(shape_TIMES), lon0[ID_LAT0].reshape(shape_TIMES), vlat_func, vlon, TIMES.reshape(shape_TIMES), R0)\n",
    "distances = haversine_distance(latitudes, longitudes, lat_vol, lon_vol, R0)"
   ]
  },
  {
   "cell_type": "code",
   "execution_count": 6,
   "id": "utility-australia",
   "metadata": {},
   "outputs": [
    {
     "data": {
      "text/plain": [
       "(33600000,)"
      ]
     },
     "execution_count": 6,
     "metadata": {},
     "output_type": "execute_result"
    }
   ],
   "source": [
    "latitudes.shape"
   ]
  },
  {
   "cell_type": "markdown",
   "id": "incorporate-fortune",
   "metadata": {},
   "source": [
    "## Compute SNR at each balloon location"
   ]
  },
  {
   "cell_type": "code",
   "execution_count": 5,
   "id": "tender-latitude",
   "metadata": {},
   "outputs": [
    {
     "name": "stderr",
     "output_type": "stream",
     "text": [
      "100%|██████████| 100/100 [00:04<00:00, 20.23it/s]\n",
      "  6%|▌         | 147/2508 [02:24<38:32,  1.02it/s]\n"
     ]
    },
    {
     "ename": "KeyboardInterrupt",
     "evalue": "",
     "output_type": "error",
     "traceback": [
      "\u001b[0;31m---------------------------------------------------------------------------\u001b[0m",
      "\u001b[0;31mKeyboardInterrupt\u001b[0m                         Traceback (most recent call last)",
      "\u001b[0;32m<ipython-input-5-2f5671725913>\u001b[0m in \u001b[0;36m<module>\u001b[0;34m\u001b[0m\n\u001b[1;32m    103\u001b[0m     \u001b[0mloc_idx\u001b[0m \u001b[0;34m=\u001b[0m \u001b[0mnp\u001b[0m\u001b[0;34m.\u001b[0m\u001b[0mwhere\u001b[0m\u001b[0;34m(\u001b[0m\u001b[0;34m(\u001b[0m\u001b[0mID_LAT0\u001b[0m\u001b[0;34m>=\u001b[0m\u001b[0mid_start\u001b[0m\u001b[0;34m)\u001b[0m\u001b[0;34m&\u001b[0m\u001b[0;34m(\u001b[0m\u001b[0mID_LAT0\u001b[0m\u001b[0;34m<\u001b[0m\u001b[0mid_end\u001b[0m\u001b[0;34m)\u001b[0m\u001b[0;34m)\u001b[0m\u001b[0;34m\u001b[0m\u001b[0;34m\u001b[0m\u001b[0m\n\u001b[1;32m    104\u001b[0m     \u001b[0mID_TIMES\u001b[0m\u001b[0;34m,\u001b[0m \u001b[0mID_ALL_TIMES\u001b[0m \u001b[0;34m=\u001b[0m \u001b[0mnp\u001b[0m\u001b[0;34m.\u001b[0m\u001b[0mmeshgrid\u001b[0m\u001b[0;34m(\u001b[0m\u001b[0mnp\u001b[0m\u001b[0;34m.\u001b[0m\u001b[0marange\u001b[0m\u001b[0;34m(\u001b[0m\u001b[0mTIMES\u001b[0m\u001b[0;34m.\u001b[0m\u001b[0msize\u001b[0m\u001b[0;34m)\u001b[0m\u001b[0;34m[\u001b[0m\u001b[0mloc_idx\u001b[0m\u001b[0;34m]\u001b[0m\u001b[0;34m,\u001b[0m \u001b[0mnp\u001b[0m\u001b[0;34m.\u001b[0m\u001b[0marange\u001b[0m\u001b[0;34m(\u001b[0m\u001b[0mall_times\u001b[0m\u001b[0;34m.\u001b[0m\u001b[0msize\u001b[0m\u001b[0;34m)\u001b[0m\u001b[0;34m)\u001b[0m\u001b[0;34m\u001b[0m\u001b[0;34m\u001b[0m\u001b[0m\n\u001b[0;32m--> 105\u001b[0;31m     \u001b[0marrival_times\u001b[0m \u001b[0;34m=\u001b[0m \u001b[0marrival_time\u001b[0m\u001b[0;34m(\u001b[0m\u001b[0mdistances\u001b[0m\u001b[0;34m[\u001b[0m\u001b[0mID_TIMES\u001b[0m\u001b[0;34m]\u001b[0m\u001b[0;34m,\u001b[0m \u001b[0;36m50.\u001b[0m\u001b[0;34m,\u001b[0m \u001b[0;34m(\u001b[0m\u001b[0mall_times\u001b[0m\u001b[0;34m[\u001b[0m\u001b[0mID_ALL_TIMES\u001b[0m\u001b[0;34m]\u001b[0m\u001b[0;34m)\u001b[0m\u001b[0;34m*\u001b[0m\u001b[0;36m365\u001b[0m\u001b[0;34m*\u001b[0m\u001b[0;36m24\u001b[0m\u001b[0;34m*\u001b[0m\u001b[0;36m3600\u001b[0m\u001b[0;34m)\u001b[0m\u001b[0;34m/\u001b[0m\u001b[0;34m(\u001b[0m\u001b[0;36m365\u001b[0m\u001b[0;34m*\u001b[0m\u001b[0;36m24\u001b[0m\u001b[0;34m*\u001b[0m\u001b[0;36m3600\u001b[0m\u001b[0;34m)\u001b[0m\u001b[0;34m\u001b[0m\u001b[0;34m\u001b[0m\u001b[0m\n\u001b[0m\u001b[1;32m    106\u001b[0m     \u001b[0;31m#all_shape = (all_times.size,)+shape_TIMES # ev x balloon init loc/t0 x balloon flight time\u001b[0m\u001b[0;34m\u001b[0m\u001b[0;34m\u001b[0m\u001b[0;34m\u001b[0m\u001b[0m\n\u001b[1;32m    107\u001b[0m     \u001b[0mall_shape\u001b[0m \u001b[0;34m=\u001b[0m \u001b[0;34m(\u001b[0m\u001b[0mall_times\u001b[0m\u001b[0;34m.\u001b[0m\u001b[0msize\u001b[0m\u001b[0;34m,\u001b[0m \u001b[0mcurrent_batch_size\u001b[0m\u001b[0;34m,\u001b[0m \u001b[0mshape_TIMES\u001b[0m\u001b[0;34m[\u001b[0m\u001b[0;36m1\u001b[0m\u001b[0;34m]\u001b[0m\u001b[0;34m)\u001b[0m \u001b[0;31m# ev x balloon init loc/t0 x balloon flight time\u001b[0m\u001b[0;34m\u001b[0m\u001b[0;34m\u001b[0m\u001b[0m\n",
      "\u001b[0;31mKeyboardInterrupt\u001b[0m: "
     ]
    }
   ],
   "source": [
    "batch_size = LAT_offset.size//2500\n",
    "ids_start = np.arange(batch_size, LAT_offset.size+batch_size, batch_size)\n",
    "mags_ev, amps_ev, mask = np.zeros((all_times.size, LAT_offset.size)), np.zeros((all_times.size, LAT_offset.size)), np.zeros((all_times.size, LAT_offset.size), dtype=bool)\n",
    "id_start = 0\n",
    "for id_end in tqdm(ids_start[:]):\n",
    "    current_batch_size = np.arange(LAT_offset.size)\n",
    "    current_batch_size = current_batch_size[(current_batch_size>=id_start)&(current_batch_size<id_end)].size\n",
    "    loc_idx = np.where((ID_LAT0>=id_start)&(ID_LAT0<id_end))\n",
    "    ID_TIMES, ID_ALL_TIMES = np.meshgrid(np.arange(TIMES.size)[loc_idx], np.arange(all_times.size))\n",
    "    arrival_times = arrival_time(distances[ID_TIMES], 50., (all_times[ID_ALL_TIMES])*365*24*3600)/(365*24*3600)\n",
    "    #all_shape = (all_times.size,)+shape_TIMES # ev x balloon init loc/t0 x balloon flight time \n",
    "    all_shape = (all_times.size, current_batch_size, shape_TIMES[1]) # ev x balloon init loc/t0 x balloon flight time \n",
    "    balloon_times = T0s_offset[ID_LAT0[ID_TIMES]]+TIMES[ID_TIMES]/(365*24*3600)\n",
    "    offset_okay = times[1]/(365*24*3600)\n",
    "    mask_loc = (balloon_times>=arrival_times-offset_okay)&(balloon_times<=arrival_times+offset_okay)\n",
    "    \n",
    "    id_event = abs(balloon_times-arrival_times).reshape(all_shape).argmin(axis=-1)[:,:,None]\n",
    "    mask[:,id_start:id_end] = np.take_along_axis(mask_loc.reshape(all_shape), id_event, axis=-1)[:,:,0]\n",
    "    arrival_times_ev = np.take_along_axis(arrival_times.reshape(all_shape), id_event, axis=-1)[:,:,0]\n",
    "    distances_ev = np.take_along_axis(distances[ID_TIMES].reshape(all_shape), id_event, axis=-1)[:,:,0]\n",
    "    \n",
    "    #print(all_shape, (all_times.size,)+shape_TIMES, balloon_times.shape, TIMES[ID_TIMES].shape, distances_ev.shape)\n",
    "    mags_ev[:,id_start:id_end] = np.take_along_axis(all_mags[ID_ALL_TIMES].reshape(all_shape), id_event, axis=-1)[:,:,0]\n",
    "    amps_ev[:,id_start:id_end] = TL_new(distances_ev, mags_ev[:,id_start:id_end])\n",
    "    id_start = id_end"
   ]
  },
  {
   "cell_type": "code",
   "execution_count": 72,
   "id": "national-heater",
   "metadata": {},
   "outputs": [
    {
     "data": {
      "image/png": "[encoded data removed]",
      "text/plain": [
       "<Figure size 576x576 with 7 Axes>"
      ]
     },
     "metadata": {
      "needs_background": "light"
     },
     "output_type": "display_data"
    }
   ],
   "source": [
    "import matplotlib.colors as colors\n",
    "\n",
    "def add_cbar(ax, sc, label):\n",
    "\n",
    "    axins = inset_axes(ax, width=\"70%\", height=\"2.5%\", loc='lower left', \n",
    "                    bbox_to_anchor=(0.15, 1.01, 1, 1.), bbox_transform=ax.transAxes, borderpad=0)\n",
    "    axins.tick_params(axis='both', which='both', labelbottom=False, labelleft=False, bottom=False, left=False, labelrotation=90.)\n",
    "    cbar = plt.colorbar(sc, cax=axins, orientation=\"horizontal\")  \n",
    "    cbar.ax.xaxis.set_ticks_position('top') \n",
    "    cbar.ax.xaxis.set_label_position(\"top\")\n",
    "    cbar.ax.xaxis.tick_top()\n",
    "    cbar.ax.set_xlabel(label, labelpad=2) \n",
    "\n",
    "\n",
    "noise_level = 0.01\n",
    "factor = (np.log10(2.)+4.)/4.\n",
    "dists = np.logspace(0, 4.*factor, 100)\n",
    "snr_threshold = 1\n",
    "\n",
    "cmap = plt.cm.coolwarm  # define the colormap\n",
    "cmaplist = [cmap(i) for i in range(cmap.N)]\n",
    "idamp = (amps_ev*(mask)).argmax(axis=0)[None,:]  \n",
    "number_over_snr = ((amps_ev*(mask)/noise_level)>snr_threshold).sum(axis=0).reshape(LAT_offset_shape)\n",
    "#print(amps_ev*(mask) + 1e-10*(~mask), amps_ev.shape, mask.shape, idamp.shape, LAT_offset_shape, idamp)\n",
    "amps_ev_reshaped = np.take_along_axis(amps_ev*(mask) + 1e-10*(~mask), idamp, axis=0)[0].reshape(LAT_offset_shape) # lon x lat x t0\n",
    "#distances_ev_reshaped = np.take_along_axis(distances_ev*(mask), idamp, axis=0)[0].reshape(LAT_offset_shape) # lon x lat x t0\n",
    "#mags_ev_reshaped = np.take_along_axis(mags_ev*(mask), idamp, axis=0)[0].reshape(LAT_offset_shape) # lon x lat x t0\n",
    "ID_TIMES_EV, DISTS = np.meshgrid(np.arange(all_times.size), dists)\n",
    "\n",
    "fig = plt.figure(figsize=(8,8))\n",
    "grid = fig.add_gridspec(2, 2)\n",
    "\n",
    "ax = fig.add_subplot(grid[0,0])\n",
    "ax.scatter(all_times, all_mags, c=all_mags, cmap='magma', vmin=1., vmax=all_mags.max())\n",
    "ax.set_xlabel('Time (years since main shock)')\n",
    "ax.set_ylabel('Magnitude (Mw)')\n",
    "\n",
    "ax = fig.add_subplot(grid[0,1], sharex=ax)\n",
    "ZTL = TL_new(DISTS.T, all_mags[ID_TIMES_EV].T)/noise_level\n",
    "#sc = ax.contourf(all_times[ID_TIMES_EV], DISTS, TL_new(DISTS, all_mags[ID_TIMES_EV])/noise_level, levels=[0.1, 0.5, 1, 5, 10], locator=ticker.LogLocator(), cmap='Blues', )\n",
    "sc = ax.pcolormesh(all_times, dists, ZTL.T, norm=colors.LogNorm(vmin=0.1, vmax=10), cmap=cmap)\n",
    "ax.set_xlabel('Time (years since main shock)')\n",
    "ax.set_ylabel('Distance (km)')\n",
    "ax.set_yscale('log')\n",
    "add_cbar(ax, sc, f'Peak SNR')\n",
    "ax.set_facecolor(cmaplist[0])\n",
    "\n",
    "ax = fig.add_subplot(grid[1,1], sharex=ax)\n",
    "Z = amps_ev_reshaped.max(axis=0)/noise_level\n",
    "sc = ax.pcolormesh(t0s_offset, lat_offset+lat_vol, Z, norm=colors.LogNorm(vmin=0.1, vmax=10), cmap=cmap)\n",
    "#sc = plt.pcolormesh(t0s_offset, lat_offset, amps_ev_reshaped.max(axis=0))\n",
    "#sc = plt.pcolormesh(t0s_offset, lat_offset, mags_ev_reshaped.max(axis=0))\n",
    "#sc = plt.pcolormesh(lon_offset, lat_offset, np.log(amps_ev_reshaped.mean(axis=-1)).T)\n",
    "#sc = plt.pcolormesh(t0s_offset, lat_offset, distances_ev_reshaped.min(axis=0))\n",
    "ax.set_xlabel('Balloon start time (years since main shock)')\n",
    "ax.set_ylabel('Balloon start latitude (deg)')\n",
    "add_cbar(ax, sc, f'Peak SNR')\n",
    "ax.set_facecolor(cmaplist[0])\n",
    "ax.axhline(lat_vol, color='black', linestyle='--', alpha=0.5)\n",
    "\n",
    "cmap = plt.cm.Greens  # define the colormap\n",
    "cmaplist = [cmap(i) for i in range(cmap.N)]\n",
    "#cmaplist[0] = (.5, .5, .5, 1.0) # force the first color entry to be grey\n",
    "cmap = colors.LinearSegmentedColormap.from_list('Custom cmap', cmaplist, cmap.N)\n",
    "\n",
    "# define the bins and normalize\n",
    "bounds = np.arange(7)\n",
    "norm = colors.BoundaryNorm(bounds, cmap.N)\n",
    "\n",
    "ax = fig.add_subplot(grid[1,0], sharex=ax)\n",
    "Z = number_over_snr.max(axis=0)\n",
    "sc = ax.pcolormesh(t0s_offset, lat_offset+lat_vol, Z, cmap='Greens', norm=norm)\n",
    "ax.set_xlabel('Balloon start time (years since main shock)')\n",
    "ax.set_ylabel('Balloon start latitude (deg)')\n",
    "add_cbar(ax, sc, f'Number of events with SNR > {snr_threshold:.0f}')\n",
    "ax.axhline(lat_vol, color='black', linestyle='--', alpha=0.5)\n",
    "\n",
    "fig.subplots_adjust(hspace=0.5, wspace=0.3)\n",
    "ax.set_facecolor(cmaplist[0])"
   ]
  },
  {
   "cell_type": "markdown",
   "id": "proof-merit",
   "metadata": {},
   "source": [
    "## Test and random data generation"
   ]
  },
  {
   "cell_type": "code",
   "execution_count": null,
   "id": "radical-stewart",
   "metadata": {},
   "outputs": [],
   "source": [
    "reload(pm)\n",
    "\n",
    "file_slopes = './data/Venus_data/distribution_venus_per_mw.csv'\n",
    "pd_slopes = pm.get_slopes(file_slopes)"
   ]
  },
  {
   "cell_type": "code",
   "execution_count": 2,
   "id": "unavailable-tissue",
   "metadata": {},
   "outputs": [],
   "source": [
    "def return_number_per_cat_and_setting(pd_slopes, cat_quake, setting):\n",
    "    \n",
    "    slope = pd_slopes.loc[(pd_slopes.type_setting==setting)&(pd_slopes.type_unknown=='slope'), cat_quake].iloc[0]\n",
    "    intercept = pd_slopes.loc[(pd_slopes.type_setting==setting)&(pd_slopes.type_unknown=='intercept'), cat_quake].iloc[0]\n",
    "    func = lambda mw: 10**(np.log10(mtm.magnitude_to_moment(mw))*slope+intercept)\n",
    "    return func\n",
    "\n",
    "MwOverM0 = return_number_per_cat_and_setting(pd_slopes, 'coronae', 'active_high_max')\n",
    "MwOverM02 = return_number_per_cat_and_setting(pd_slopes, 'coronae', 'active_low_min')"
   ]
  },
  {
   "cell_type": "code",
   "execution_count": null,
   "id": "naughty-seafood",
   "metadata": {},
   "outputs": [],
   "source": [
    "idx = 40\n",
    "plt.figure()\n",
    "sc = plt.scatter(longitudes.reshape(shape_TIMES)[idx,:], latitudes.reshape(shape_TIMES)[idx,:], c=times)\n",
    "plt.colorbar(sc)\n",
    "plt.scatter(lon_vol, lat_vol, marker='^', s=100, color='tab:red')\n",
    "plt.xlim([-180., 180.])\n",
    "plt.ylim([-90., 90.])"
   ]
  },
  {
   "cell_type": "code",
   "execution_count": null,
   "id": "handmade-timer",
   "metadata": {},
   "outputs": [],
   "source": [
    "def add_cbar(ax, sc, label):\n",
    "\n",
    "    axins = inset_axes(ax, width=\"70%\", height=\"2.5%\", loc='lower left', \n",
    "                    bbox_to_anchor=(0.15, 1.01, 1, 1.), bbox_transform=ax.transAxes, borderpad=0)\n",
    "    axins.tick_params(axis='both', which='both', labelbottom=False, labelleft=False, bottom=False, left=False, labelrotation=90.)\n",
    "    cbar = plt.colorbar(sc, cax=axins, extend='both', orientation=\"horizontal\")  \n",
    "    cbar.ax.xaxis.set_ticks_position('top') \n",
    "    cbar.ax.xaxis.set_label_position(\"top\")\n",
    "    cbar.ax.xaxis.tick_top()\n",
    "    cbar.ax.set_xlabel(label, labelpad=2) \n",
    "\n",
    "mags = np.linspace(2., 6., 200)\n",
    "tmax = 2.\n",
    "tsecondshocks = 1.1\n",
    "times = np.linspace(0., tmax, 150)\n",
    "dists = np.linspace(1., 1000., 100)\n",
    "scaling_min, scaling_max = 5e2, 1e6\n",
    "noise_level = 0.05\n",
    "mission_duration = 1./12.\n",
    "\n",
    "poisson_model = lambda rate, mission_duration : 1.-np.exp(-rate*mission_duration)\n",
    "ID_TIME, DISTS = np.meshgrid(np.arange(times.size), dists)\n",
    "alpha = (1/tmax)*np.log(scaling_max/scaling_min)\n",
    "scalings = lambda times: scaling_min*np.exp(times*alpha)\n",
    "MAGS, TIMES = np.meshgrid(mags, times)\n",
    "shape_init = MAGS.shape\n",
    "NUMBERS = MwOverM0(MAGS)/scalings(TIMES)\n",
    "NUMBERS = NUMBERS.ravel()\n",
    "NUMBERS[NUMBERS<1] = 0\n",
    "\n",
    "NUMBERS2 = np.zeros_like(NUMBERS)\n",
    "inds = TIMES.ravel()>=tsecondshocks\n",
    "NUMBERS2[inds] = (MwOverM02(MAGS.ravel())/scalings(TIMES.ravel()-tsecondshocks))[inds]\n",
    "\n",
    "NUMBERS += NUMBERS2\n",
    "NUMBERS = NUMBERS.astype(int).reshape(shape_init)\n",
    "\n",
    "# Create a mask for non-zero events\n",
    "mask = NUMBERS > 0\n",
    "magnitude_matrix = np.where(mask, MAGS, -np.inf)\n",
    "max_magnitudes = np.max(magnitude_matrix, axis=1)\n",
    "\n",
    "fig = plt.figure(figsize=(15,5))\n",
    "grid = fig.add_gridspec(1, 3)\n",
    "\n",
    "ax = fig.add_subplot(grid[0,0])\n",
    "#sc = ax.contourf(TIMES, MAGS, NUMBERS, cmap='Reds', locator=ticker.LogLocator(), levels=[1, 5, 10, 50, 100, 1000])\n",
    "ax.plot(times, max_magnitudes, color='tab:red',)\n",
    "ax.set_xlabel('Time (years)')\n",
    "ax.set_ylabel('Peak Moment Magnitude ($M_w$)')\n",
    "#add_cbar(ax, sc, f'Number of events')\n",
    "\n",
    "ax = fig.add_subplot(grid[0,1])\n",
    "sc = ax.contourf(times[ID_TIME], DISTS, TL_new(DISTS, max_magnitudes[ID_TIME]), locator=ticker.LogLocator(), cmap='Blues', )\n",
    "ax.set_xlabel('Time (years)')\n",
    "ax.set_ylabel('Distance (km)')\n",
    "add_cbar(ax, sc, f'Peak Amplitude (Pa)')\n",
    "TL_new(DISTS, max_magnitudes[ID_TIME])\n",
    "\n",
    "ax = fig.add_subplot(grid[0,2])\n",
    "sc = ax.contourf(times[ID_TIME], DISTS, TL_new(DISTS, max_magnitudes[ID_TIME])/noise_level, locator=ticker.LogLocator(), cmap='Greens', )\n",
    "ax.set_xlabel('Time (years)')\n",
    "ax.set_ylabel('Distance (km)')\n",
    "add_cbar(ax, sc, f'Peak SNR')"
   ]
  },
  {
   "cell_type": "code",
   "execution_count": 64,
   "id": "prescribed-bride",
   "metadata": {},
   "outputs": [
    {
     "data": {
      "image/png": "[encoded data removed]",
      "text/plain": [
       "<Figure size 432x288 with 1 Axes>"
      ]
     },
     "metadata": {
      "needs_background": "light"
     },
     "output_type": "display_data"
    }
   ],
   "source": [
    "# Parameters for the Gaussian distribution\n",
    "mag_min = 2.0  # mean of the distribution\n",
    "mag_maxs = [6., 4., 5.]\n",
    "t0s = [0., 0.5, 1.4]\n",
    "#mag_maxs = [5.,]\n",
    "#t0s = [0.,]\n",
    "std_dev = 1.5  # standard deviation of the distribution\n",
    "tmax = 2.\n",
    "n = 200  # number of samples\n",
    "\n",
    "# Sampling n elements from the Gaussian distribution\n",
    "np.random.seed(1)\n",
    "all_mags = np.array([])\n",
    "all_times = np.array([])\n",
    "for t0, mag_max in zip(t0s, mag_maxs):\n",
    "    mags = np.random.normal(loc=mag_min, scale=std_dev, size=5*n)\n",
    "    mags = mags[(mags>=mag_min)&(mags<=mag_max)][:n]\n",
    "    all_mags = np.r_[all_mags, np.sort(mags)[::-1]]\n",
    "    times = np.random.normal(loc=t0, scale=tmax/3., size=5*n)\n",
    "    times = times[(times>=t0)&(times<=tmax)][:n]\n",
    "    all_times = np.r_[all_times, np.sort(times)]\n",
    "    \n",
    "plt.figure()\n",
    "_=plt.hist2d(all_times, all_mags, bins=10)\n",
    "#plt.scatter(all_times, all_mags)"
   ]
  },
  {
   "cell_type": "code",
   "execution_count": null,
   "id": "direct-debate",
   "metadata": {},
   "outputs": [],
   "source": [
    "all_times.shape"
   ]
  },
  {
   "cell_type": "code",
   "execution_count": null,
   "id": "hungarian-talent",
   "metadata": {},
   "outputs": [],
   "source": []
  }
 ],
 "metadata": {
  "kernelspec": {
   "display_name": "Python 3",
   "language": "python",
   "name": "python3"
  },
  "language_info": {
   "codemirror_mode": {
    "name": "ipython",
    "version": 3
   },
   "file_extension": ".py",
   "mimetype": "text/x-python",
   "name": "python",
   "nbconvert_exporter": "python",
   "pygments_lexer": "ipython3",
   "version": "3.7.9"
  }
 },
 "nbformat": 4,
 "nbformat_minor": 5
}
