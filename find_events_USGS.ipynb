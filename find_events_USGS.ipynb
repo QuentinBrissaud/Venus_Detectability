{
 "cells": [
  {
   "cell_type": "code",
   "execution_count": 1,
   "id": "violent-garbage",
   "metadata": {},
   "outputs": [],
   "source": [
    "%matplotlib widget\n",
    "import pandas as pd\n",
    "import numpy as np\n",
    "from obspy.core.utcdatetime import UTCDateTime\n",
    "from obspy.clients.fdsn import Client"
   ]
  },
  {
   "cell_type": "markdown",
   "id": "9144e85a",
   "metadata": {},
   "source": [
    "## Collecting USGS data in Hawaii"
   ]
  },
  {
   "cell_type": "code",
   "execution_count": 3,
   "id": "known-anger",
   "metadata": {},
   "outputs": [
    {
     "name": "stdout",
     "output_type": "stream",
     "text": [
      "3587 Event(s) in Catalog:\n",
      "2024-08-29T06:22:50.350000Z | +20.119, -155.414 | 3.01 ml | manual\n",
      "2024-08-23T09:03:39.560000Z | +19.389, -155.244 | 3.07 ml | manual\n",
      "...\n",
      "1988-02-10T13:26:57.660000Z | +19.358, -155.043 | 3.04 ml | manual\n",
      "1988-01-27T01:24:35.990000Z | +19.338, -155.063 | 3.93 ml | manual\n",
      "To see all events call 'print(CatalogObject.__str__(print_all=True))'\n"
     ]
    }
   ],
   "source": [
    "ref_location = 19.485901834882345, -155.30471152157713\n",
    "startdate = UTCDateTime('1988-01-01')\n",
    "enddate = UTCDateTime('2024-09-01')\n",
    "offset = 1.\n",
    "minmagnitude = 3.\n",
    "maxdepth = 15.\n",
    "\n",
    "opt_catalog = dict(\n",
    "    starttime = startdate,\n",
    "    endtime = enddate,\n",
    "    maxlongitude = min(ref_location[1]+offset, 180.),\n",
    "    maxlatitude = min(ref_location[0]+offset, 90.),\n",
    "    minlongitude = max(ref_location[1]-offset, -180.),\n",
    "    minlatitude = max(ref_location[0]-offset, -90.),\n",
    "    minmagnitude=minmagnitude, \n",
    "    maxdepth=maxdepth,\n",
    "    includeallorigins=True,\n",
    "    #includearrivals=True\n",
    ")\n",
    "    \n",
    "client = Client(\"USGS\")\n",
    "catalog = client.get_events(**opt_catalog)\n",
    "print(catalog)"
   ]
  },
  {
   "cell_type": "code",
   "execution_count": 10,
   "id": "lucky-thought",
   "metadata": {},
   "outputs": [
    {
     "data": {
      "text/plain": [
       "5970000000000000.0"
      ]
     },
     "execution_count": 10,
     "metadata": {},
     "output_type": "execute_result"
    }
   ],
   "source": [
    "mags = np.array([ev.magnitudes[0].mag for ev in catalog])\n",
    "id_large = np.argmax(mags)\n",
    "#catalog[id_large]\n",
    "nb_mt = np.array([len(ev.focal_mechanisms) for ev in catalog])\n",
    "id_mt = np.where(nb_mt>0)[0]\n",
    "catalog[id_mt[0]].focal_mechanisms[0].moment_tensor.tensor['m_rr']"
   ]
  },
  {
   "cell_type": "code",
   "execution_count": 28,
   "id": "limited-peter",
   "metadata": {},
   "outputs": [
    {
     "name": "stderr",
     "output_type": "stream",
     "text": [
      "  0%|          | 0/3587 [00:00<?, ?it/s]"
     ]
    },
    {
     "name": "stderr",
     "output_type": "stream",
     "text": [
      "100%|██████████| 3587/3587 [00:05<00:00, 629.63it/s]\n"
     ]
    }
   ],
   "source": [
    "from tqdm import tqdm\n",
    "\n",
    "depths = [ev.origins[0].depth/1e3 for ev in catalog]\n",
    "mags = [ev.magnitudes[0].mag for ev in catalog]\n",
    "times = [(ev.origins[0].time - startdate)/(3600*24*365) for ev in catalog]\n",
    "UTC_times = [ev.origins[0].time.datetime for ev in catalog]\n",
    "#mrr = [ev.focal_mechanisms[0].moment_tensor.tensor.m_rr for ev in catalog if ev.focal_mechanisms else np.nan]\n",
    "\n",
    "l_comp_tensor = {'m_rr': np.nan, 'm_tt': np.nan, 'm_pp': np.nan, 'm_rt': np.nan, 'm_rp': np.nan, 'm_tp': np.nan}\n",
    "catalog_hawai = pd.DataFrame()\n",
    "for ev in tqdm(catalog):\n",
    "    loc_dict = l_comp_tensor.copy()\n",
    "    if ev.focal_mechanisms: \n",
    "        if ev.focal_mechanisms[0].moment_tensor is not None:\n",
    "            for comp in loc_dict:\n",
    "                try:\n",
    "                    loc_dict[comp] = ev.focal_mechanisms[0].moment_tensor.tensor[comp]\n",
    "                except:\n",
    "                    print(f'Error: {ev.focal_mechanisms[0].moment_tensor}')\n",
    "    catalog_hawai = pd.concat([catalog_hawai, pd.DataFrame([loc_dict])])\n",
    "\n",
    "#catalog_hawai = pd.DataFrame(np.array([pd.to_datetime(UTC_times), times, depths, mags]).T, columns=['UTC', 'time (years)', 'depth', 'mag'])\n",
    "catalog_hawai[['UTC', 'time (years)', 'depth', 'mag']] = np.array([pd.to_datetime(UTC_times), times, depths, mags]).T\n",
    "catalog_hawai.sort_values(by='time (years)', inplace=True)\n",
    "catalog_hawai.to_csv('./data/hawai_catalog.csv', header=True, index=False)"
   ]
  },
  {
   "cell_type": "markdown",
   "id": "8f5f718e",
   "metadata": {},
   "source": [
    "## Test plotting sequence information"
   ]
  },
  {
   "cell_type": "code",
   "execution_count": 2,
   "id": "6fa3394b",
   "metadata": {},
   "outputs": [],
   "source": [
    "catalog_hawai = pd.read_csv('./data/hawai_catalog.csv', header=[0])\n",
    "catalog_hawai.loc[:,'UTC'] = pd.to_datetime(catalog_hawai.UTC)\n",
    "catalog_hawai = catalog_hawai.loc[catalog_hawai.mag>=3.]\n",
    "\n",
    "all_mags = catalog_hawai.mag.values\n",
    "all_times = catalog_hawai['time (years)'].values"
   ]
  },
  {
   "cell_type": "code",
   "execution_count": 12,
   "id": "349eed13",
   "metadata": {},
   "outputs": [
    {
     "name": "stderr",
     "output_type": "stream",
     "text": [
      "c:\\Users\\quentin\\Documents\\2024_Venus_Detectability\\proba_volcanoes_modules.py:262: UserWarning: No data for colormapping provided via 'c'. Parameters 'cmap' will be ignored\n",
      "  ax_zoom.set_title(f'Collapse events in 2018')\n"
     ]
    }
   ],
   "source": [
    "from importlib import reload\n",
    "import matplotlib.pyplot as plt\n",
    "import proba_volcanoes_modules as pvm\n",
    "reload(pvm)\n",
    "\n",
    "fig = plt.figure(figsize=(10,7))\n",
    "grid = fig.add_gridspec(4, 6)\n",
    "\n",
    "ax_first = fig.add_subplot(grid[:2,:3])\n",
    "ax_zoom = fig.add_subplot(grid[:2,3:], sharey=ax_first)\n",
    "\n",
    "ax = fig.add_subplot(grid[2:,0:2],)\n",
    "ax = fig.add_subplot(grid[2:,2:4], sharey=ax)\n",
    "ax.tick_params(axis='both', labelleft=False)\n",
    "ax = fig.add_subplot(grid[2:,4:], sharey=ax)\n",
    "ax.tick_params(axis='both', labelleft=False)\n",
    "\n",
    "pvm.plot_sequence_events(fig, ax_first, ax_zoom, catalog_hawai, max_val=7., fontsize=12., fontsize_label=20.)\n",
    "fig.savefig('./figures/Figure_4_volcanoes.pdf')"
   ]
  }
 ],
 "metadata": {
  "kernelspec": {
   "display_name": "Python 3",
   "language": "python",
   "name": "python3"
  },
  "language_info": {
   "codemirror_mode": {
    "name": "ipython",
    "version": 3
   },
   "file_extension": ".py",
   "mimetype": "text/x-python",
   "name": "python",
   "nbconvert_exporter": "python",
   "pygments_lexer": "ipython3",
   "version": "3.11.9"
  }
 },
 "nbformat": 4,
 "nbformat_minor": 5
}
